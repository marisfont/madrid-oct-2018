{
 "cells": [
  {
   "cell_type": "markdown",
   "metadata": {},
   "source": [
    "**You will find in this notebook some scrapy exercises to practise your scraping skills**.<br>**Remember:**\n",
    "- **To get each request status code to ensure you get the proper response from the web***\n",
    "- **To print the response text in each request to evaluate the what kind of info you are getting and its format.** \n",
    "- **To check for patterns in the response text to extract the data/info requested in each question.**\n",
    "- **To visit each url and take a look on its code through Chrome developer tool.**\n"
   ]
  },
  {
   "cell_type": "markdown",
   "metadata": {},
   "source": [
    "- [Requests library](http://docs.python-requests.org/en/master/#the-user-guide) documentation \n",
    "- [Beautiful Soup Doc](https://www.crummy.com/software/BeautifulSoup/bs4/doc/)\n",
    "- [Urllib](https://docs.python.org/3/library/urllib.html#module-urllib)\n",
    "- [re lib](https://docs.python.org/3/library/re.html)\n",
    "- [lxml lib](https://lxml.de/)\n",
    "- [Scrapy](https://scrapy.org/)\n",
    "- [List of HTTP status codes](https://en.wikipedia.org/wiki/List_of_HTTP_status_codes)\n",
    "- [HTML basics](http://www.simplehtmlguide.com/cheatsheet.php)\n",
    "- [CSS basics](https://www.cssbasics.com/#page_start)"
   ]
  },
  {
   "cell_type": "markdown",
   "metadata": {},
   "source": [
    "**All the libraries and modules you will need are included below. Feel free to explore other libraries i.e. scrapy**"
   ]
  },
  {
   "cell_type": "code",
   "execution_count": 1,
   "metadata": {},
   "outputs": [],
   "source": [
    "import requests\n",
    "from pprint import pprint\n",
    "from bs4 import BeautifulSoup\n",
    "import scrapy\n",
    "from lxml import html\n",
    "from lxml.html import fromstring\n",
    "import urllib.request\n",
    "from urllib.request import urlopen\n",
    "import random\n",
    "import re\n",
    "import pandas as pd"
   ]
  },
  {
   "cell_type": "markdown",
   "metadata": {},
   "source": [
    "### 1.Download and display the content of robot.txt for Wikipedia"
   ]
  },
  {
   "cell_type": "markdown",
   "metadata": {},
   "source": [
    "Check [here](http://www.robotstxt.org/robotstxt.html) to know more about ***robot.txt***"
   ]
  },
  {
   "cell_type": "code",
   "execution_count": 2,
   "metadata": {},
   "outputs": [],
   "source": [
    "# This is the url you will scrape in this exercise\n",
    "url1 = \"https://en.wikipedia.org/robots.txt\""
   ]
  },
  {
   "cell_type": "code",
   "execution_count": 3,
   "metadata": {},
   "outputs": [
    {
     "data": {
      "text/plain": [
       "<html><body><p># robots.txt for http://www.wikipedia.org/ and friends\n",
       "#\n",
       "# Please note: There are a lot of pages on this site, and there are\n",
       "# some misbehaved spiders out there that go _way_ too fast. If you're\n",
       "# irresponsible, your access to the site may be blocked.\n",
       "#\n",
       "\n",
       "# Observed spamming large amounts of https://en.wikipedia.org/?curid=NNNNNN\n",
       "# and ignoring 429 ratelimit responses, claims to respect robots:\n",
       "# http://mj12bot.com/\n",
       "User-agent: MJ12bot\n",
       "Disallow: /\n",
       "\n",
       "# advertising-related bots:\n",
       "User-agent: Mediapartners-Google*\n",
       "Disallow: /\n",
       "\n",
       "# Wikipedia work bots:\n",
       "User-agent: IsraBot\n",
       "Disallow:\n",
       "\n",
       "User-agent: Orthogaffe\n",
       "Disallow:\n",
       "\n",
       "# Crawlers that are kind enough to obey, but which we'd rather not have\n",
       "# unless they're feeding search engines.\n",
       "User-agent: UbiCrawler\n",
       "Disallow: /\n",
       "\n",
       "User-agent: DOC\n",
       "Disallow: /\n",
       "\n",
       "User-agent: Zao\n",
       "Disallow: /\n",
       "\n",
       "# Some bots are known to be trouble, particularly those designed to copy\n",
       "# entire sites. Please obey robots.txt.\n",
       "User-agent: sitecheck.internetseer.com\n",
       "Disallow: /\n",
       "\n",
       "User-agent: Zealbot\n",
       "Disallow: /\n",
       "\n",
       "User-agent: MSIECrawler\n",
       "Disallow: /\n",
       "\n",
       "User-agent: SiteSnagger\n",
       "Disallow: /\n",
       "\n",
       "User-agent: WebStripper\n",
       "Disallow: /\n",
       "\n",
       "User-agent: WebCopier\n",
       "Disallow: /\n",
       "\n",
       "User-agent: Fetch\n",
       "Disallow: /\n",
       "\n",
       "User-agent: Offline Explorer\n",
       "Disallow: /\n",
       "\n",
       "User-agent: Teleport\n",
       "Disallow: /\n",
       "\n",
       "User-agent: TeleportPro\n",
       "Disallow: /\n",
       "\n",
       "User-agent: WebZIP\n",
       "Disallow: /\n",
       "\n",
       "User-agent: linko\n",
       "Disallow: /\n",
       "\n",
       "User-agent: HTTrack\n",
       "Disallow: /\n",
       "\n",
       "User-agent: Microsoft.URL.Control\n",
       "Disallow: /\n",
       "\n",
       "User-agent: Xenu\n",
       "Disallow: /\n",
       "\n",
       "User-agent: larbin\n",
       "Disallow: /\n",
       "\n",
       "User-agent: libwww\n",
       "Disallow: /\n",
       "\n",
       "User-agent: ZyBORG\n",
       "Disallow: /\n",
       "\n",
       "User-agent: Download Ninja\n",
       "Disallow: /\n",
       "\n",
       "# Misbehaving: requests much too fast:\n",
       "User-agent: fast\n",
       "Disallow: /\n",
       "\n",
       "#\n",
       "# Sorry, wget in its recursive mode is a frequent problem.\n",
       "# Please read the man page and use it properly; there is a\n",
       "# --wait option you can use to set the delay between hits,\n",
       "# for instance.\n",
       "#\n",
       "User-agent: wget\n",
       "Disallow: /\n",
       "\n",
       "#\n",
       "# The 'grub' distributed client has been *very* poorly behaved.\n",
       "#\n",
       "User-agent: grub-client\n",
       "Disallow: /\n",
       "\n",
       "#\n",
       "# Doesn't follow robots.txt anyway, but...\n",
       "#\n",
       "User-agent: k2spider\n",
       "Disallow: /\n",
       "\n",
       "#\n",
       "# Hits many times per second, not acceptable\n",
       "# http://www.nameprotect.com/botinfo.html\n",
       "User-agent: NPBot\n",
       "Disallow: /\n",
       "\n",
       "# A capture bot, downloads gazillions of pages with no public benefit\n",
       "# http://www.webreaper.net/\n",
       "User-agent: WebReaper\n",
       "Disallow: /\n",
       "\n",
       "# Wayback Machine: defaults and whether to index user-pages\n",
       "# FIXME: Complete the removal of this block, per T7582.\n",
       "# User-agent: archive.org_bot\n",
       "# Allow: /\n",
       "\n",
       "\n",
       "#\n",
       "# Friendly, low-speed bots are welcome viewing article pages, but not\n",
       "# dynamically-generated pages please.\n",
       "#\n",
       "# Inktomi's \"Slurp\" can read a minimum delay between hits; if your\n",
       "# bot supports such a thing using the 'Crawl-delay' or another\n",
       "# instruction, please let us know.\n",
       "#\n",
       "# There is a special exception for API mobileview to allow dynamic\n",
       "# mobile web &amp; app views to load section content.\n",
       "# These views aren't HTTP-cached but use parser cache aggressively\n",
       "# and don't expose special: pages etc.\n",
       "#\n",
       "# Another exception is for REST API documentation, located at\n",
       "# /api/rest_v1/?doc.\n",
       "#\n",
       "User-agent: *\n",
       "Allow: /w/api.php?action=mobileview&amp;\n",
       "Allow: /w/load.php?\n",
       "Allow: /api/rest_v1/?doc\n",
       "Disallow: /w/\n",
       "Disallow: /api/\n",
       "Disallow: /trap/\n",
       "Disallow: /wiki/Special:\n",
       "Disallow: /wiki/Spezial:\n",
       "Disallow: /wiki/Spesial:\n",
       "Disallow: /wiki/Special%3A\n",
       "Disallow: /wiki/Spezial%3A\n",
       "Disallow: /wiki/Spesial%3A\n",
       "\n",
       "#\n",
       "# ar:\n",
       "Disallow: /wiki/%D8%AE%D8%A7%D8%B5:Search\n",
       "Disallow: /wiki/%D8%AE%D8%A7%D8%B5%3ASearch\n",
       "#\n",
       "# dewiki:\n",
       "# T6937\n",
       "# sensible deletion and meta user discussion pages:\n",
       "Disallow: /wiki/Wikipedia:L%C3%B6schkandidaten/\n",
       "Disallow: /wiki/Wikipedia:Löschkandidaten/\n",
       "Disallow: /wiki/Wikipedia:Vandalensperrung/\n",
       "Disallow: /wiki/Wikipedia:Benutzersperrung/\n",
       "Disallow: /wiki/Wikipedia:Vermittlungsausschuss/\n",
       "Disallow: /wiki/Wikipedia:Administratoren/Probleme/\n",
       "Disallow: /wiki/Wikipedia:Adminkandidaturen/\n",
       "Disallow: /wiki/Wikipedia:Qualitätssicherung/\n",
       "Disallow: /wiki/Wikipedia:Qualit%C3%A4tssicherung/\n",
       "# 4937#5\n",
       "Disallow: /wiki/Wikipedia:Vandalismusmeldung/\n",
       "Disallow: /wiki/Wikipedia:Gesperrte_Lemmata/\n",
       "Disallow: /wiki/Wikipedia:Löschprüfung/\n",
       "Disallow: /wiki/Wikipedia:L%C3%B6schprüfung/\n",
       "Disallow: /wiki/Wikipedia:Administratoren/Notizen/\n",
       "Disallow: /wiki/Wikipedia:Schiedsgericht/Anfragen/\n",
       "Disallow: /wiki/Wikipedia:L%C3%B6schpr%C3%BCfung/\n",
       "# T14111\n",
       "Disallow: /wiki/Wikipedia:Checkuser/\n",
       "Disallow: /wiki/Wikipedia_Diskussion:Checkuser/\n",
       "Disallow: /wiki/Wikipedia_Diskussion:Adminkandidaturen/\n",
       "# T15961\n",
       "Disallow: /wiki/Wikipedia:Spam-Blacklist-Log\n",
       "Disallow: /wiki/Wikipedia%3ASpam-Blacklist-Log\n",
       "Disallow: /wiki/Wikipedia_Diskussion:Spam-Blacklist-Log\n",
       "Disallow: /wiki/Wikipedia_Diskussion%3ASpam-Blacklist-Log\n",
       "#\n",
       "# enwiki:\n",
       "# Folks get annoyed when VfD discussions end up the number 1 google hit for\n",
       "# their name. See T6776\n",
       "Disallow: /wiki/Wikipedia:Articles_for_deletion/\n",
       "Disallow: /wiki/Wikipedia%3AArticles_for_deletion/\n",
       "Disallow: /wiki/Wikipedia:Votes_for_deletion/\n",
       "Disallow: /wiki/Wikipedia%3AVotes_for_deletion/\n",
       "Disallow: /wiki/Wikipedia:Pages_for_deletion/\n",
       "Disallow: /wiki/Wikipedia%3APages_for_deletion/\n",
       "Disallow: /wiki/Wikipedia:Miscellany_for_deletion/\n",
       "Disallow: /wiki/Wikipedia%3AMiscellany_for_deletion/\n",
       "Disallow: /wiki/Wikipedia:Miscellaneous_deletion/\n",
       "Disallow: /wiki/Wikipedia%3AMiscellaneous_deletion/\n",
       "Disallow: /wiki/Wikipedia:Copyright_problems\n",
       "Disallow: /wiki/Wikipedia%3ACopyright_problems\n",
       "Disallow: /wiki/Wikipedia:Protected_titles/\n",
       "Disallow: /wiki/Wikipedia%3AProtected_titles/\n",
       "# T15398\n",
       "Disallow: /wiki/Wikipedia:WikiProject_Spam/\n",
       "Disallow: /wiki/Wikipedia%3AWikiProject_Spam/\n",
       "# T16075\n",
       "Disallow: /wiki/MediaWiki:Spam-blacklist\n",
       "Disallow: /wiki/MediaWiki%3ASpam-blacklist\n",
       "Disallow: /wiki/MediaWiki_talk:Spam-blacklist\n",
       "Disallow: /wiki/MediaWiki_talk%3ASpam-blacklist\n",
       "# T13261\n",
       "Disallow: /wiki/Wikipedia:Requests_for_arbitration/\n",
       "Disallow: /wiki/Wikipedia%3ARequests_for_arbitration/\n",
       "Disallow: /wiki/Wikipedia:Requests_for_comment/\n",
       "Disallow: /wiki/Wikipedia%3ARequests_for_comment/\n",
       "Disallow: /wiki/Wikipedia:Requests_for_adminship/\n",
       "Disallow: /wiki/Wikipedia%3ARequests_for_adminship/\n",
       "# T12288\n",
       "Disallow: /wiki/Wikipedia_talk:Articles_for_deletion/\n",
       "Disallow: /wiki/Wikipedia_talk%3AArticles_for_deletion/\n",
       "Disallow: /wiki/Wikipedia_talk:Votes_for_deletion/\n",
       "Disallow: /wiki/Wikipedia_talk%3AVotes_for_deletion/\n",
       "Disallow: /wiki/Wikipedia_talk:Pages_for_deletion/\n",
       "Disallow: /wiki/Wikipedia_talk%3APages_for_deletion/\n",
       "Disallow: /wiki/Wikipedia_talk:Miscellany_for_deletion/\n",
       "Disallow: /wiki/Wikipedia_talk%3AMiscellany_for_deletion/\n",
       "Disallow: /wiki/Wikipedia_talk:Miscellaneous_deletion/\n",
       "Disallow: /wiki/Wikipedia_talk%3AMiscellaneous_deletion/\n",
       "# T16793\n",
       "Disallow: /wiki/Wikipedia:Changing_username\n",
       "Disallow: /wiki/Wikipedia%3AChanging_username\n",
       "Disallow: /wiki/Wikipedia:Changing_username/\n",
       "Disallow: /wiki/Wikipedia%3AChanging_username/\n",
       "Disallow: /wiki/Wikipedia_talk:Changing_username\n",
       "Disallow: /wiki/Wikipedia_talk%3AChanging_username\n",
       "Disallow: /wiki/Wikipedia_talk:Changing_username/\n",
       "Disallow: /wiki/Wikipedia_talk%3AChanging_username/\n",
       "#\n",
       "# eswiki:\n",
       "# T8746\n",
       "Disallow: /wiki/Wikipedia:Consultas_de_borrado/\n",
       "Disallow: /wiki/Wikipedia%3AConsultas_de_borrado/\n",
       "#\n",
       "# fiwiki:\n",
       "# T10695\n",
       "Disallow: /wiki/Wikipedia:Poistettavat_sivut\n",
       "Disallow: /wiki/K%C3%A4ytt%C3%A4j%C3%A4:\n",
       "Disallow: /wiki/Käyttäjä:\n",
       "Disallow: /wiki/Keskustelu_k%C3%A4ytt%C3%A4j%C3%A4st%C3%A4:\n",
       "Disallow: /wiki/Keskustelu_käyttäjästä:\n",
       "Disallow: /wiki/Wikipedia:Yll%C3%A4pit%C3%A4j%C3%A4t/\n",
       "Disallow: /wiki/Wikipedia:Ylläpitäjät/\n",
       "#\n",
       "# hewiki:\n",
       "Disallow: /wiki/%D7%9E%D7%99%D7%95%D7%97%D7%93:Search\n",
       "Disallow: /wiki/%D7%9E%D7%99%D7%95%D7%97%D7%93%3ASearch\n",
       "#T11517\n",
       "Disallow: /wiki/ויקיפדיה:רשימת_מועמדים_למחיקה/\n",
       "Disallow: /wiki/ויקיפדיה%3Aרשימת_מועמדים_למחיקה/\n",
       "Disallow: /wiki/%D7%95%D7%99%D7%A7%D7%99%D7%A4%D7%93%D7%99%D7%94:%D7%A8%D7%A9%D7%99%D7%9E%D7%AA_%D7%9E%D7%95%D7%A2%D7%9E%D7%93%D7%99%D7%9D_%D7%9C%D7%9E%D7%97%D7%99%D7%A7%D7%94/\n",
       "Disallow: /wiki/%D7%95%D7%99%D7%A7%D7%99%D7%A4%D7%93%D7%99%D7%94%3A%D7%A8%D7%A9%D7%99%D7%9E%D7%AA_%D7%9E%D7%95%D7%A2%D7%9E%D7%93%D7%99%D7%9D_%D7%9C%D7%9E%D7%97%D7%99%D7%A7%D7%94/\n",
       "Disallow: /wiki/ויקיפדיה:ערכים_לא_קיימים_ומוגנים\n",
       "Disallow: /wiki/ויקיפדיה%3Aערכים_לא_קיימים_ומוגנים\n",
       "Disallow: /wiki/%D7%95%D7%99%D7%A7%D7%99%D7%A4%D7%93%D7%99%D7%94:%D7%A2%D7%A8%D7%9B%D7%99%D7%9D_%D7%9C%D7%90_%D7%A7%D7%99%D7%99%D7%9E%D7%99%D7%9D_%D7%95%D7%9E%D7%95%D7%92%D7%A0%D7%99%D7%9D\n",
       "Disallow: /wiki/%D7%95%D7%99%D7%A7%D7%99%D7%A4%D7%93%D7%99%D7%94%3A%D7%A2%D7%A8%D7%9B%D7%99%D7%9D_%D7%9C%D7%90_%D7%A7%D7%99%D7%99%D7%9E%D7%99%D7%9D_%D7%95%D7%9E%D7%95%D7%92%D7%A0%D7%99%D7%9D\n",
       "Disallow: /wiki/ויקיפדיה:דפים_לא_קיימים_ומוגנים\n",
       "Disallow: /wiki/ויקיפדיה%3Aדפים_לא_קיימים_ומוגנים\n",
       "Disallow: /wiki/%D7%95%D7%99%D7%A7%D7%99%D7%A4%D7%93%D7%99%D7%94:%D7%93%D7%A4%D7%99%D7%9D_%D7%9C%D7%90_%D7%A7%D7%99%D7%99%D7%9E%D7%99%D7%9D_%D7%95%D7%9E%D7%95%D7%92%D7%A0%D7%99%D7%9D\n",
       "Disallow: /wiki/%D7%95%D7%99%D7%A7%D7%99%D7%A4%D7%93%D7%99%D7%94%3A%D7%93%D7%A4%D7%99%D7%9D_%D7%9C%D7%90_%D7%A7%D7%99%D7%99%D7%9E%D7%99%D7%9D_%D7%95%D7%9E%D7%95%D7%92%D7%A0%D7%99%D7%9D\n",
       "#\n",
       "# huwiki:\n",
       "Disallow: /wiki/Speci%C3%A1lis:Search\n",
       "Disallow: /wiki/Speci%C3%A1lis%3ASearch\n",
       "#\n",
       "# itwiki:\n",
       "# T7545\n",
       "Disallow: /wiki/Wikipedia:Pagine_da_cancellare\n",
       "Disallow: /wiki/Wikipedia%3APagine_da_cancellare\n",
       "Disallow: /wiki/Wikipedia:Utenti_problematici\n",
       "Disallow: /wiki/Wikipedia%3AUtenti_problematici\n",
       "Disallow: /wiki/Wikipedia:Vandalismi_in_corso\n",
       "Disallow: /wiki/Wikipedia%3AVandalismi_in_corso\n",
       "Disallow: /wiki/Wikipedia:Amministratori\n",
       "Disallow: /wiki/Wikipedia%3AAmministratori\n",
       "Disallow: /wiki/Wikipedia:Proposte_di_cancellazione_semplificata\n",
       "Disallow: /wiki/Wikipedia%3AProposte_di_cancellazione_semplificata\n",
       "Disallow: /wiki/Categoria:Da_cancellare_subito\n",
       "Disallow: /wiki/Categoria%3ADa_cancellare_subito\n",
       "Disallow: /wiki/Wikipedia:Sospette_violazioni_di_copyright\n",
       "Disallow: /wiki/Wikipedia%3ASospette_violazioni_di_copyright\n",
       "Disallow: /wiki/Categoria:Da_controllare_per_copyright\n",
       "Disallow: /wiki/Categoria%3ADa_controllare_per_copyright\n",
       "Disallow: /wiki/Progetto:Rimozione_contributi_sospetti\n",
       "Disallow: /wiki/Progetto%3ARimozione_contributi_sospetti\n",
       "Disallow: /wiki/Categoria:Da_cancellare_subito_per_violazione_integrale_copyright\n",
       "Disallow: /wiki/Categoria%3ADa_cancellare_subito_per_violazione_integrale_copyright\n",
       "Disallow: /wiki/Progetto:Cococo\n",
       "Disallow: /wiki/Progetto%3ACococo\n",
       "Disallow: /wiki/Discussioni_progetto:Cococo\n",
       "Disallow: /wiki/Discussioni_progetto%3ACococo\n",
       "#\n",
       "# jawiki\n",
       "Disallow: /wiki/%E7%89%B9%E5%88%A5:Search\n",
       "Disallow: /wiki/%E7%89%B9%E5%88%A5%3ASearch\n",
       "# T7239\n",
       "Disallow: /wiki/Wikipedia:%E5%89%8A%E9%99%A4%E4%BE%9D%E9%A0%BC/\n",
       "Disallow: /wiki/Wikipedia%3A%E5%89%8A%E9%99%A4%E4%BE%9D%E9%A0%BC/\n",
       "Disallow: /wiki/Wikipedia:%E5%88%A9%E7%94%A8%E8%80%85%E3%83%9A%E3%83%BC%E3%82%B8%E3%81%AE%E5%89%8A%E9%99%A4%E4%BE%9D%E9%A0%BC\n",
       "Disallow: /wiki/Wikipedia%3A%E5%88%A9%E7%94%A8%E8%80%85%E3%83%9A%E3%83%BC%E3%82%B8%E3%81%AE%E5%89%8A%E9%99%A4%E4%BE%9D%E9%A0%BC\n",
       "# nowiki\n",
       "# T13432\n",
       "Disallow: /wiki/Bruker:\n",
       "Disallow: /wiki/Bruker%3A\n",
       "Disallow: /wiki/Brukerdiskusjon\n",
       "Disallow: /wiki/Wikipedia:Administratorer\n",
       "Disallow: /wiki/Wikipedia%3AAdministratorer\n",
       "Disallow: /wiki/Wikipedia-diskusjon:Administratorer\n",
       "Disallow: /wiki/Wikipedia-diskusjon%3AAdministratorer\n",
       "Disallow: /wiki/Wikipedia:Sletting\n",
       "Disallow: /wiki/Wikipedia%3ASletting\n",
       "Disallow: /wiki/Wikipedia-diskusjon:Sletting\n",
       "Disallow: /wiki/Wikipedia-diskusjon%3ASletting\n",
       "#\n",
       "# plwiki\n",
       "# T10067\n",
       "Disallow: /wiki/Wikipedia:Strony_do_usuni%C4%99cia\n",
       "Disallow: /wiki/Wikipedia%3AStrony_do_usuni%C4%99cia\n",
       "Disallow: /wiki/Wikipedia:Do_usuni%C4%99cia\n",
       "Disallow: /wiki/Wikipedia%3ADo_usuni%C4%99cia\n",
       "Disallow: /wiki/Wikipedia:SDU/\n",
       "Disallow: /wiki/Wikipedia%3ASDU/\n",
       "Disallow: /wiki/Wikipedia:Strony_podejrzane_o_naruszenie_praw_autorskich\n",
       "Disallow: /wiki/Wikipedia%3AStrony_podejrzane_o_naruszenie_praw_autorskich\n",
       "#\n",
       "# ptwiki:\n",
       "# T7394\n",
       "Disallow: /wiki/Wikipedia:Páginas_para_eliminar/\n",
       "Disallow: /wiki/Wikipedia:P%C3%A1ginas_para_eliminar/\n",
       "Disallow: /wiki/Wikipedia%3AP%C3%A1ginas_para_eliminar/\n",
       "Disallow: /wiki/Wikipedia_Discussão:Páginas_para_eliminar/\n",
       "Disallow: /wiki/Wikipedia_Discuss%C3%A3o:P%C3%A1ginas_para_eliminar/\n",
       "Disallow: /wiki/Wikipedia_Discuss%C3%A3o%3AP%C3%A1ginas_para_eliminar/\n",
       "#\n",
       "# rowiki:\n",
       "# T14546\n",
       "Disallow: /wiki/Wikipedia:Pagini_de_%C5%9Fters\n",
       "Disallow: /wiki/Wikipedia%3APagini_de_%C5%9Fters\n",
       "Disallow: /wiki/Discu%C5%A3ie_Wikipedia:Pagini_de_%C5%9Fters\n",
       "Disallow: /wiki/Discu%C5%A3ie_Wikipedia%3APagini_de_%C5%9Fters\n",
       "#\n",
       "# ruwiki:\n",
       "Disallow: /wiki/%D0%A1%D0%BF%D0%B5%D1%86%D0%B8%D0%B0%D0%BB%D1%8C%D0%BD%D1%8B%D0%B5:Search\n",
       "Disallow: /wiki/%D0%A1%D0%BF%D0%B5%D1%86%D0%B8%D0%B0%D0%BB%D1%8C%D0%BD%D1%8B%D0%B5%3ASearch\n",
       "#\n",
       "# svwiki:\n",
       "# T12229\n",
       "Disallow: /wiki/Wikipedia%3ASidor_f%C3%B6reslagna_f%C3%B6r_radering\n",
       "Disallow: /wiki/Wikipedia:Sidor_f%C3%B6reslagna_f%C3%B6r_radering\n",
       "Disallow: /wiki/Wikipedia:Sidor_föreslagna_för_radering\n",
       "Disallow: /wiki/Användare\n",
       "Disallow: /wiki/Anv%C3%A4ndare\n",
       "Disallow: /wiki/Användardiskussion\n",
       "Disallow: /wiki/Anv%C3%A4ndardiskussion\n",
       "Disallow: /wiki/Wikipedia:Skyddade_sidnamn\n",
       "Disallow: /wiki/Wikipedia%3ASkyddade_sidnamn\n",
       "# T13291\n",
       "Disallow: /wiki/Wikipedia:Sidor_som_bör_raderas\n",
       "Disallow: /wiki/Wikipedia:Sidor_som_b%C3%B6r_raderas\n",
       "Disallow: /wiki/Wikipedia%3ASidor_som_b%C3%B6r_raderas\n",
       "#\n",
       "# zhwiki:\n",
       "# T7104\n",
       "Disallow: /wiki/Wikipedia:删除投票/侵权\n",
       "Disallow: /wiki/Wikipedia:%E5%88%A0%E9%99%A4%E6%8A%95%E7%A5%A8/%E4%BE%B5%E6%9D%83\n",
       "Disallow: /wiki/Wikipedia:删除投票和请求\n",
       "Disallow: /wiki/Wikipedia:%E5%88%A0%E9%99%A4%E6%8A%95%E7%A5%A8%E5%92%8C%E8%AF%B7%E6%B1%82\n",
       "Disallow: /wiki/Category:快速删除候选\n",
       "Disallow: /wiki/Category:%E5%BF%AB%E9%80%9F%E5%88%A0%E9%99%A4%E5%80%99%E9%80%89\n",
       "Disallow: /wiki/Category:维基百科需要翻译的文章\n",
       "Disallow: /wiki/Category:%E7%BB%B4%E5%9F%BA%E7%99%BE%E7%A7%91%E9%9C%80%E8%A6%81%E7%BF%BB%E8%AF%91%E7%9A%84%E6%96%87%E7%AB%A0\n",
       "#\n",
       "# sister projects\n",
       "#\n",
       "# enwikinews:\n",
       "# T7340\n",
       "Disallow: /wiki/Portal:Prepared_stories/\n",
       "Disallow: /wiki/Portal%3APrepared_stories/\n",
       "#\n",
       "# itwikinews\n",
       "# T11138\n",
       "Disallow: /wiki/Wikinotizie:Richieste_di_cancellazione\n",
       "Disallow: /wiki/Wikinotizie:Sospette_violazioni_di_copyright\n",
       "Disallow: /wiki/Categoria:Da_cancellare_subito\n",
       "Disallow: /wiki/Categoria:Da_cancellare_subito_per_violazione_integrale_copyright\n",
       "Disallow: /wiki/Wikinotizie:Storie_in_preparazione\n",
       "#\n",
       "# enwikiquote:\n",
       "# T17095\n",
       "Disallow: /wiki/Wikiquote:Votes_for_deletion/\n",
       "Disallow: /wiki/Wikiquote%3AVotes_for_deletion/\n",
       "Disallow: /wiki/Wikiquote_talk:Votes_for_deletion/\n",
       "Disallow: /wiki/Wikiquote_talk%3AVotes_for_deletion/\n",
       "Disallow: /wiki/Wikiquote:Votes_for_deletion_archive/\n",
       "Disallow: /wiki/Wikiquote%3AVotes_for_deletion_archive/\n",
       "Disallow: /wiki/Wikiquote_talk:Votes_for_deletion_archive/\n",
       "Disallow: /wiki/Wikiquote_talk%3AVotes_for_deletion_archive/\n",
       "#\n",
       "# enwikibooks\n",
       "Disallow: /wiki/Wikibooks:Votes_for_deletion\n",
       "#\n",
       "# working...\n",
       "Disallow: /wiki/Fundraising_2007/comments\n",
       "#\n",
       "#\n",
       "#\n",
       "#----------------------------------------------------------#\n",
       "#\n",
       "#\n",
       "#\n",
       " # <!-- Please do not remove the space at the start of this line, it breaks the rendering.  http://www.robotstxt.org/orig.html says spaces before comments are OK. --></p><pre>\n",
       "#\n",
       "# Localisable part of robots.txt for en.wikipedia.org\n",
       "#\n",
       "# Edit at https://en.wikipedia.org/w/index.php?title=MediaWiki:Robots.txt&amp;action=edit\n",
       "# Don't add newlines here. All rules set here are active for every user-agent.\n",
       "#\n",
       "# Please check any changes using a syntax validator such as http://tool.motoricerca.info/robots-checker.phtml\n",
       "# Enter https://en.wikipedia.org/robots.txt as the URL to check.\n",
       "#\n",
       "# https://bugzilla.wikimedia.org/show_bug.cgi?id=14075\n",
       "Disallow: /wiki/MediaWiki:Spam-blacklist\n",
       "Disallow: /wiki/MediaWiki%3ASpam-blacklist\n",
       "Disallow: /wiki/MediaWiki_talk:Spam-blacklist\n",
       "Disallow: /wiki/MediaWiki_talk%3ASpam-blacklist\n",
       "Disallow: /wiki/Wikipedia:WikiProject_Spam\n",
       "Disallow: /wiki/Wikipedia_talk:WikiProject_Spam\n",
       "#\n",
       "# Folks get annoyed when XfD discussions end up the number 1 google hit for\n",
       "# their name. \n",
       "# https://phabricator.wikimedia.org/T16075\n",
       "Disallow: /wiki/Wikipedia:Articles_for_deletion\n",
       "Disallow: /wiki/Wikipedia%3AArticles_for_deletion\n",
       "Disallow: /wiki/Wikipedia:Votes_for_deletion\n",
       "Disallow: /wiki/Wikipedia%3AVotes_for_deletion\n",
       "Disallow: /wiki/Wikipedia:Pages_for_deletion\n",
       "Disallow: /wiki/Wikipedia%3APages_for_deletion\n",
       "Disallow: /wiki/Wikipedia:Miscellany_for_deletion\n",
       "Disallow: /wiki/Wikipedia%3AMiscellany_for_deletion\n",
       "Disallow: /wiki/Wikipedia:Miscellaneous_deletion\n",
       "Disallow: /wiki/Wikipedia%3AMiscellaneous_deletion\n",
       "Disallow: /wiki/Wikipedia:Categories_for_discussion\n",
       "Disallow: /wiki/Wikipedia%3ACategories_for_discussion\n",
       "Disallow: /wiki/Wikipedia:Templates_for_deletion\n",
       "Disallow: /wiki/Wikipedia%3ATemplates_for_deletion\n",
       "Disallow: /wiki/Wikipedia:Redirects_for_discussion\n",
       "Disallow: /wiki/Wikipedia%3ARedirects_for_discussion\n",
       "Disallow: /wiki/Wikipedia:Deletion_review\n",
       "Disallow: /wiki/Wikipedia%3ADeletion_review\n",
       "Disallow: /wiki/Wikipedia:WikiProject_Deletion_sorting\n",
       "Disallow: /wiki/Wikipedia%3AWikiProject_Deletion_sorting\n",
       "Disallow: /wiki/Wikipedia:Files_for_deletion\n",
       "Disallow: /wiki/Wikipedia%3AFiles_for_deletion\n",
       "Disallow: /wiki/Wikipedia:Files_for_discussion\n",
       "Disallow: /wiki/Wikipedia%3AFiles_for_discussion\n",
       "Disallow: /wiki/Wikipedia:Possibly_unfree_files\n",
       "Disallow: /wiki/Wikipedia%3APossibly_unfree_files\n",
       "#\n",
       "# https://phabricator.wikimedia.org/T12288\n",
       "Disallow: /wiki/Wikipedia_talk:Articles_for_deletion\n",
       "Disallow: /wiki/Wikipedia_talk%3AArticles_for_deletion\n",
       "Disallow: /wiki/Wikipedia_talk:Votes_for_deletion\n",
       "Disallow: /wiki/Wikipedia_talk%3AVotes_for_deletion\n",
       "Disallow: /wiki/Wikipedia_talk:Pages_for_deletion\n",
       "Disallow: /wiki/Wikipedia_talk%3APages_for_deletion\n",
       "Disallow: /wiki/Wikipedia_talk:Miscellany_for_deletion\n",
       "Disallow: /wiki/Wikipedia_talk%3AMiscellany_for_deletion\n",
       "Disallow: /wiki/Wikipedia_talk:Miscellaneous_deletion\n",
       "Disallow: /wiki/Wikipedia_talk%3AMiscellaneous_deletion\n",
       "Disallow: /wiki/Wikipedia_talk:Templates_for_deletion\n",
       "Disallow: /wiki/Wikipedia_talk%3ATemplates_for_deletion\n",
       "Disallow: /wiki/Wikipedia_talk:Categories_for_discussion\n",
       "Disallow: /wiki/Wikipedia_talk%3ACategories_for_discussion\n",
       "Disallow: /wiki/Wikipedia_talk:Deletion_review\n",
       "Disallow: /wiki/Wikipedia_talk%3ADeletion_review\n",
       "Disallow: /wiki/Wikipedia_talk:WikiProject_Deletion_sorting\n",
       "Disallow: /wiki/Wikipedia_talk%3AWikiProject_Deletion_sorting\n",
       "Disallow: /wiki/Wikipedia_talk:Files_for_deletion\n",
       "Disallow: /wiki/Wikipedia_talk%3AFiles_for_deletion\n",
       "Disallow: /wiki/Wikipedia_talk:Files_for_discussion\n",
       "Disallow: /wiki/Wikipedia_talk%3AFiles_for_discussion\n",
       "Disallow: /wiki/Wikipedia_talk:Possibly_unfree_files\n",
       "Disallow: /wiki/Wikipedia_talk%3APossibly_unfree_files\n",
       "#\n",
       "Disallow: /wiki/Wikipedia:Copyright_problems\n",
       "Disallow: /wiki/Wikipedia%3ACopyright_problems\n",
       "Disallow: /wiki/Wikipedia_talk:Copyright_problems\n",
       "Disallow: /wiki/Wikipedia_talk%3ACopyright_problems\n",
       "Disallow: /wiki/Wikipedia:Suspected_copyright_violations\n",
       "Disallow: /wiki/Wikipedia%3ASuspected_copyright_violations\n",
       "Disallow: /wiki/Wikipedia_talk:Suspected_copyright_violations\n",
       "Disallow: /wiki/Wikipedia_talk%3ASuspected_copyright_violations\n",
       "Disallow: /wiki/Wikipedia:Contributor_copyright_investigations\n",
       "Disallow: /wiki/Wikipedia%3AContributor_copyright_investigations\n",
       "Disallow: /wiki/Wikipedia:Contributor_copyright_investigations\n",
       "Disallow: /wiki/Wikipedia%3AContributor_copyright_investigations\n",
       "Disallow: /wiki/Wikipedia_talk:Contributor_copyright_investigations\n",
       "Disallow: /wiki/Wikipedia_talk%3AContributor_copyright_investigations\n",
       "Disallow: /wiki/Wikipedia_talk:Contributor_copyright_investigations\n",
       "Disallow: /wiki/Wikipedia_talk%3AContributor_copyright_investigations\n",
       "Disallow: /wiki/Wikipedia:Protected_titles\n",
       "Disallow: /wiki/Wikipedia%3AProtected_titles\n",
       "Disallow: /wiki/Wikipedia_talk:Protected_titles\n",
       "Disallow: /wiki/Wikipedia_talk%3AProtected_titles\n",
       "Disallow: /wiki/Wikipedia:Articles_for_creation\n",
       "Disallow: /wiki/Wikipedia%3AArticles_for_creation\n",
       "Disallow: /wiki/Wikipedia_talk:Articles_for_creation\n",
       "Disallow: /wiki/Wikipedia_talk%3AArticles_for_creation\n",
       "Disallow: /wiki/Wikipedia_talk:Article_wizard\n",
       "Disallow: /wiki/Wikipedia_talk%3AArticle_wizard\n",
       "#\n",
       "# https://phabricator.wikimedia.org/T13261\n",
       "Disallow: /wiki/Wikipedia:Requests_for_arbitration\n",
       "Disallow: /wiki/Wikipedia%3ARequests_for_arbitration\n",
       "Disallow: /wiki/Wikipedia_talk:Requests_for_arbitration\n",
       "Disallow: /wiki/Wikipedia_talk%3ARequests_for_arbitration\n",
       "Disallow: /wiki/Wikipedia:Requests_for_comment\n",
       "Disallow: /wiki/Wikipedia%3ARequests_for_comment\n",
       "Disallow: /wiki/Wikipedia_talk:Requests_for_comment\n",
       "Disallow: /wiki/Wikipedia_talk%3ARequests_for_comment\n",
       "Disallow: /wiki/Wikipedia:Requests_for_adminship\n",
       "Disallow: /wiki/Wikipedia%3ARequests_for_adminship\n",
       "Disallow: /wiki/Wikipedia_talk:Requests_for_adminship\n",
       "Disallow: /wiki/Wikipedia_talk%3ARequests_for_adminship\n",
       "#\n",
       "# https://phabricator.wikimedia.org/T14111\n",
       "Disallow: /wiki/Wikipedia:Requests_for_checkuser\n",
       "Disallow: /wiki/Wikipedia%3ARequests_for_checkuser\n",
       "Disallow: /wiki/Wikipedia_talk:Requests_for_checkuser\n",
       "Disallow: /wiki/Wikipedia_talk%3ARequests_for_checkuser\n",
       "#\n",
       "# https://phabricator.wikimedia.org/T15398\n",
       "Disallow: /wiki/Wikipedia:WikiProject_Spam\n",
       "Disallow: /wiki/Wikipedia%3AWikiProject_Spam\n",
       "#\n",
       "# https://phabricator.wikimedia.org/T16793\n",
       "Disallow: /wiki/Wikipedia:Changing_username\n",
       "Disallow: /wiki/Wikipedia%3AChanging_username\n",
       "Disallow: /wiki/Wikipedia:Changing_username\n",
       "Disallow: /wiki/Wikipedia%3AChanging_username\n",
       "Disallow: /wiki/Wikipedia_talk:Changing_username\n",
       "Disallow: /wiki/Wikipedia_talk%3AChanging_username\n",
       "Disallow: /wiki/Wikipedia_talk:Changing_username\n",
       "Disallow: /wiki/Wikipedia_talk%3AChanging_username\n",
       "#\n",
       "Disallow: /wiki/Wikipedia:Administrators%27_noticeboard\n",
       "Disallow: /wiki/Wikipedia%3AAdministrators%27_noticeboard\n",
       "Disallow: /wiki/Wikipedia_talk:Administrators%27_noticeboard\n",
       "Disallow: /wiki/Wikipedia_talk%3AAdministrators%27_noticeboard\n",
       "Disallow: /wiki/Wikipedia:Community_sanction_noticeboard\n",
       "Disallow: /wiki/Wikipedia%3ACommunity_sanction_noticeboard\n",
       "Disallow: /wiki/Wikipedia_talk:Community_sanction_noticeboard\n",
       "Disallow: /wiki/Wikipedia_talk%3ACommunity_sanction_noticeboard\n",
       "Disallow: /wiki/Wikipedia:Bureaucrats%27_noticeboard\n",
       "Disallow: /wiki/Wikipedia%3ABureaucrats%27_noticeboard\n",
       "Disallow: /wiki/Wikipedia_talk:Bureaucrats%27_noticeboard\n",
       "Disallow: /wiki/Wikipedia_talk%3ABureaucrats%27_noticeboard\n",
       "#\n",
       "Disallow: /wiki/Wikipedia:Sockpuppet_investigations\n",
       "Disallow: /wiki/Wikipedia%3ASockpuppet_investigations\n",
       "Disallow: /wiki/Wikipedia_talk:Sockpuppet_investigations\n",
       "Disallow: /wiki/Wikipedia_talk%3ASockpuppet_investigations\n",
       "#\n",
       "Disallow: /wiki/Wikipedia:Neutral_point_of_view/Noticeboard\n",
       "Disallow: /wiki/Wikipedia%3ANeutral_point_of_view/Noticeboard\n",
       "Disallow: /wiki/Wikipedia_talk:Neutral_point_of_view/Noticeboard\n",
       "Disallow: /wiki/Wikipedia_talk%3ANeutral_point_of_view/Noticeboard\n",
       "#\n",
       "Disallow: /wiki/Wikipedia:No_original_research/noticeboard\n",
       "Disallow: /wiki/Wikipedia%3ANo_original_research/noticeboard\n",
       "Disallow: /wiki/Wikipedia_talk:No_original_research/noticeboard\n",
       "Disallow: /wiki/Wikipedia_talk%3ANo_original_research/noticeboard\n",
       "#\n",
       "Disallow: /wiki/Wikipedia:Fringe_theories/Noticeboard\n",
       "Disallow: /wiki/Wikipedia%3AFringe_theories/Noticeboard\n",
       "Disallow: /wiki/Wikipedia_talk:Fringe_theories/Noticeboard\n",
       "Disallow: /wiki/Wikipedia_talk%3AFringe_theories/Noticeboard\n",
       "#\n",
       "Disallow: /wiki/Wikipedia:Conflict_of_interest/Noticeboard\n",
       "Disallow: /wiki/Wikipedia%3AConflict_of_interest/Noticeboard\n",
       "Disallow: /wiki/Wikipedia_talk:Conflict_of_interest/Noticeboard\n",
       "Disallow: /wiki/Wikipedia_talk%3AConflict_of_interest/Noticeboard\n",
       "#\n",
       "Disallow: /wiki/Wikipedia:Long-term_abuse\n",
       "Disallow: /wiki/Wikipedia%3ALong-term_abuse\n",
       "Disallow: /wiki/Wikipedia_talk:Long-term_abuse\n",
       "Disallow: /wiki/Wikipedia_talk%3ALong-term_abuse\n",
       "Disallow: /wiki/Wikipedia:Long_term_abuse\n",
       "Disallow: /wiki/Wikipedia%3ALong_term_abuse\n",
       "Disallow: /wiki/Wikipedia_talk:Long_term_abuse\n",
       "Disallow: /wiki/Wikipedia_talk%3ALong_term_abuse\n",
       "#\n",
       "Disallow: /wiki/Wikipedia:Wikiquette_assistance\n",
       "Disallow: /wiki/Wikipedia%3AWikiquette_assistance\n",
       "#\n",
       "Disallow: /wiki/Wikipedia:Abuse_reports\n",
       "Disallow: /wiki/Wikipedia%3AAbuse_reports\n",
       "Disallow: /wiki/Wikipedia_talk:Abuse_reports\n",
       "Disallow: /wiki/Wikipedia_talk%3AAbuse_reports\n",
       "Disallow: /wiki/Wikipedia:Abuse_response\n",
       "Disallow: /wiki/Wikipedia%3AAbuse_response\n",
       "Disallow: /wiki/Wikipedia_talk:Abuse_response\n",
       "Disallow: /wiki/Wikipedia_talk%3AAbuse_response\n",
       "#\n",
       "Disallow: /wiki/Wikipedia:Reliable_sources/Noticeboard\n",
       "Disallow: /wiki/Wikipedia%3AReliable_sources/Noticeboard\n",
       "Disallow: /wiki/Wikipedia_talk:Reliable_sources/Noticeboard\n",
       "Disallow: /wiki/Wikipedia_talk%3AReliable_sources/Noticeboard\n",
       "#\n",
       "Disallow: /wiki/Wikipedia:Suspected_sock_puppets\n",
       "Disallow: /wiki/Wikipedia%3ASuspected_sock_puppets\n",
       "Disallow: /wiki/Wikipedia_talk:Suspected_sock_puppets\n",
       "Disallow: /wiki/Wikipedia_talk%3ASuspected_sock_puppets\n",
       "#\n",
       "Disallow: /wiki/Wikipedia:Biographies_of_living_persons/Noticeboard\n",
       "Disallow: /wiki/Wikipedia%3ABiographies_of_living_persons/Noticeboard\n",
       "Disallow: /wiki/Wikipedia_talk:Biographies_of_living_persons/Noticeboard\n",
       "Disallow: /wiki/Wikipedia_talk%3ABiographies_of_living_persons/Noticeboard\n",
       "#\n",
       "Disallow: /wiki/Wikipedia:Content_noticeboard\n",
       "Disallow: /wiki/Wikipedia%3AContent_noticeboard\n",
       "Disallow: /wiki/Wikipedia_talk:Content_noticeboard\n",
       "Disallow: /wiki/Wikipedia_talk%3AContent_noticeboard\n",
       "#\n",
       "Disallow: /wiki/Template:Editnotices\n",
       "Disallow: /wiki/Template%3AEditnotices\n",
       "#\n",
       "Disallow: /wiki/Wikipedia:Arbitration\n",
       "Disallow: /wiki/Wikipedia%3AArbitration\n",
       "Disallow: /wiki/Wikipedia_talk:Arbitration\n",
       "Disallow: /wiki/Wikipedia_talk%3AArbitration\n",
       "#\n",
       "Disallow: /wiki/Wikipedia:Arbitration_Committee\n",
       "Disallow: /wiki/Wikipedia%3AArbitration_Committee\n",
       "Disallow: /wiki/Wikipedia_talk:Arbitration_Committee\n",
       "Disallow: /wiki/Wikipedia_talk%3AArbitration_Committee\n",
       "#\n",
       "Disallow: /wiki/Wikipedia:Arbitration_Committee_Elections\n",
       "Disallow: /wiki/Wikipedia%3AArbitration_Committee_Elections\n",
       "Disallow: /wiki/Wikipedia_talk:Arbitration_Committee_Elections\n",
       "Disallow: /wiki/Wikipedia_talk%3AArbitration_Committee_Elections\n",
       "#\n",
       "Disallow: /wiki/Wikipedia:Mediation_Committee\n",
       "Disallow: /wiki/Wikipedia%3AMediation_Committee\n",
       "Disallow: /wiki/Wikipedia_talk:Mediation_Committee\n",
       "Disallow: /wiki/Wikipedia_talk%3AMediation_Committee\n",
       "#\n",
       "Disallow: /wiki/Wikipedia:Mediation_Cabal/Cases\n",
       "Disallow: /wiki/Wikipedia%3AMediation_Cabal/Cases\n",
       "#\n",
       "Disallow: /wiki/Wikipedia:Requests_for_bureaucratship\n",
       "Disallow: /wiki/Wikipedia%3ARequests_for_bureaucratship\n",
       "Disallow: /wiki/Wikipedia_talk:Requests_for_bureaucratship\n",
       "Disallow: /wiki/Wikipedia_talk%3ARequests_for_bureaucratship\n",
       "#\n",
       "Disallow: /wiki/Wikipedia:Administrator_review\n",
       "Disallow: /wiki/Wikipedia%3AAdministrator_review\n",
       "Disallow: /wiki/Wikipedia_talk:Administrator_review\n",
       "Disallow: /wiki/Wikipedia_talk%3AAdministrator_review\n",
       "#\n",
       "Disallow: /wiki/Wikipedia:Editor_review\n",
       "Disallow: /wiki/Wikipedia%3AEditor_review\n",
       "Disallow: /wiki/Wikipedia_talk:Editor_review\n",
       "Disallow: /wiki/Wikipedia_talk%3AEditor_review\n",
       "#\n",
       "Disallow: /wiki/Wikipedia:Article_Incubator\n",
       "Disallow: /wiki/Wikipedia%3AArticle_Incubator\n",
       "Disallow: /wiki/Wikipedia_talk:Article_Incubator\n",
       "Disallow: /wiki/Wikipedia_talk%3AArticle_Incubator\n",
       "#\n",
       "Disallow: /wiki/Category:Noindexed_pages\n",
       "Disallow: /wiki/Category%3ANoindexed_pages\n",
       "#\n",
       "# </pre></body></html>"
      ]
     },
     "execution_count": 3,
     "metadata": {},
     "output_type": "execute_result"
    }
   ],
   "source": [
    "html1 = requests.get(url1).content\n",
    "soup1 = BeautifulSoup(html1, \"lxml\")\n",
    "soup1"
   ]
  },
  {
   "cell_type": "markdown",
   "metadata": {},
   "source": [
    "### 2. Display the name of the most recently added dataset on data.gov."
   ]
  },
  {
   "cell_type": "code",
   "execution_count": 4,
   "metadata": {},
   "outputs": [],
   "source": [
    "# This is the url you will scrape in this exercise\n",
    "url2 ='http://catalog.data.gov/dataset?q=&sort=metadata_created+desc'"
   ]
  },
  {
   "cell_type": "code",
   "execution_count": 5,
   "metadata": {},
   "outputs": [],
   "source": [
    "html2 = requests.get(url2).content\n",
    "soup2 = BeautifulSoup(html2, \"lxml\")"
   ]
  },
  {
   "cell_type": "code",
   "execution_count": 6,
   "metadata": {},
   "outputs": [
    {
     "data": {
      "text/plain": [
       "'French Frigate Shoals Site P1A 11/1/2002 17-18M'"
      ]
     },
     "execution_count": 6,
     "metadata": {},
     "output_type": "execute_result"
    }
   ],
   "source": [
    "recent = [e.text.strip() for e in soup2.select('.dataset-heading')]\n",
    "recent[0]"
   ]
  },
  {
   "cell_type": "markdown",
   "metadata": {},
   "source": [
    "### 3. Number of datasets currently listed on data.gov "
   ]
  },
  {
   "cell_type": "code",
   "execution_count": 7,
   "metadata": {},
   "outputs": [],
   "source": [
    "# This is the url you will scrape in this exercise\n",
    "url3 = 'http://www.data.gov/'"
   ]
  },
  {
   "cell_type": "code",
   "execution_count": 8,
   "metadata": {},
   "outputs": [],
   "source": [
    "html3 = requests.get(url3).content\n",
    "soup3 = BeautifulSoup(html3, \"lxml\")"
   ]
  },
  {
   "cell_type": "code",
   "execution_count": 9,
   "metadata": {},
   "outputs": [
    {
     "data": {
      "text/plain": [
       "['300,295 datasets']"
      ]
     },
     "execution_count": 9,
     "metadata": {},
     "output_type": "execute_result"
    }
   ],
   "source": [
    "number = [e for e in soup3.find(href='/metrics')]\n",
    "number"
   ]
  },
  {
   "cell_type": "markdown",
   "metadata": {},
   "source": [
    "### 4. Display all the image links from Walt Disney wikipedia page"
   ]
  },
  {
   "cell_type": "code",
   "execution_count": 10,
   "metadata": {},
   "outputs": [],
   "source": [
    "# This is the url you will scrape in this exercise\n",
    "url4 = 'https://en.wikipedia.org/wiki/Walt_Disney'"
   ]
  },
  {
   "cell_type": "code",
   "execution_count": 11,
   "metadata": {},
   "outputs": [],
   "source": [
    "html4 = requests.get(url4).content\n",
    "soup4 = BeautifulSoup(html4, \"lxml\")"
   ]
  },
  {
   "cell_type": "code",
   "execution_count": 12,
   "metadata": {},
   "outputs": [
    {
     "data": {
      "text/plain": [
       "['/wiki/File:Walt_Disney_1946.JPG',\n",
       " '/wiki/File:Walt_Disney_1942_signature.svg',\n",
       " '/wiki/File:Walt_Disney_envelope_ca._1921.jpg',\n",
       " '/wiki/File:Trolley_Troubles_poster.jpg',\n",
       " '/wiki/File:Steamboat-willie.jpg',\n",
       " '/wiki/File:Walt_Disney_1935.jpg',\n",
       " '/wiki/File:Walt_Disney_Snow_white_1937_trailer_screenshot_(13).jpg',\n",
       " '/wiki/File:Disney_drawing_goofy.jpg',\n",
       " '/wiki/File:DisneySchiphol1951.jpg',\n",
       " '/wiki/File:WaltDisneyplansDisneylandDec1954.jpg',\n",
       " '/wiki/File:Walt_disney_portrait_right.jpg',\n",
       " '/wiki/File:Walt_Disney_Grave.JPG',\n",
       " '/wiki/File:Roy_O._Disney_with_Company_at_Press_Conference.jpg',\n",
       " '/wiki/File:Disney_Display_Case.JPG',\n",
       " '/wiki/File:Disney1968.jpg',\n",
       " '/wiki/File:P_vip.svg',\n",
       " '/wiki/File:Video-x-generic.svg',\n",
       " '/wiki/File:Flag_of_Los_Angeles_County,_California.svg',\n",
       " '/wiki/File:USA_flag_on_television.svg']"
      ]
     },
     "execution_count": 12,
     "metadata": {},
     "output_type": "execute_result"
    }
   ],
   "source": [
    "image = [e[\"href\"] for e in soup4.select('.image')]\n",
    "image "
   ]
  },
  {
   "cell_type": "markdown",
   "metadata": {},
   "source": [
    "### 5. Retrieve an arbitary Wikipedia page of \"Python\" and create a list of links on that page"
   ]
  },
  {
   "cell_type": "code",
   "execution_count": 13,
   "metadata": {},
   "outputs": [],
   "source": [
    "# This is the url you will scrape in this exercise\n",
    "url5 ='https://en.wikipedia.org/wiki/Python' "
   ]
  },
  {
   "cell_type": "code",
   "execution_count": 14,
   "metadata": {},
   "outputs": [],
   "source": [
    "html5 = requests.get(url5).content\n",
    "soup5 = BeautifulSoup(html5, \"lxml\")"
   ]
  },
  {
   "cell_type": "code",
   "execution_count": 15,
   "metadata": {},
   "outputs": [
    {
     "data": {
      "text/plain": [
       "['#mw-head',\n",
       " '#p-search',\n",
       " 'https://en.wiktionary.org/wiki/Python',\n",
       " 'https://en.wiktionary.org/wiki/python',\n",
       " '#Snakes',\n",
       " '#Ancient_Greece',\n",
       " '#Media_and_entertainment',\n",
       " '#Computing',\n",
       " '#Engineering',\n",
       " '#Roller_coasters',\n",
       " '#Vehicles',\n",
       " '#Weaponry',\n",
       " '#See_also',\n",
       " '/w/index.php?title=Python&action=edit&section=1',\n",
       " '/wiki/Pythonidae',\n",
       " '/wiki/Python_(genus)',\n",
       " '/w/index.php?title=Python&action=edit&section=2',\n",
       " '/wiki/Python_(mythology)',\n",
       " '/wiki/Python_of_Aenus',\n",
       " '/wiki/Python_(painter)',\n",
       " '/wiki/Python_of_Byzantium',\n",
       " '/wiki/Python_of_Catana',\n",
       " '/w/index.php?title=Python&action=edit&section=3',\n",
       " '/wiki/Python_(film)',\n",
       " '/wiki/Pythons_2',\n",
       " '/wiki/Monty_Python',\n",
       " '/wiki/Python_(Monty)_Pictures',\n",
       " '/w/index.php?title=Python&action=edit&section=4',\n",
       " '/wiki/Python_(programming_language)',\n",
       " '/wiki/CPython',\n",
       " '/wiki/CMU_Common_Lisp',\n",
       " '/wiki/PERQ#PERQ_3',\n",
       " '/w/index.php?title=Python&action=edit&section=5',\n",
       " '/w/index.php?title=Python&action=edit&section=6',\n",
       " '/wiki/Python_(Busch_Gardens_Tampa_Bay)',\n",
       " '/wiki/Python_(Coney_Island,_Cincinnati,_Ohio)',\n",
       " '/wiki/Python_(Efteling)',\n",
       " '/w/index.php?title=Python&action=edit&section=7',\n",
       " '/wiki/Python_(automobile_maker)',\n",
       " '/wiki/Python_(Ford_prototype)',\n",
       " '/w/index.php?title=Python&action=edit&section=8',\n",
       " '/wiki/Colt_Python',\n",
       " '/wiki/Python_(missile)',\n",
       " '/w/index.php?title=Python&action=edit&section=9',\n",
       " '/wiki/Cython',\n",
       " '/wiki/Pyton',\n",
       " '/wiki/File:Disambig_gray.svg',\n",
       " '/wiki/Help:Disambiguation',\n",
       " '//en.wikipedia.org/w/index.php?title=Special:WhatLinksHere/Python&namespace=0',\n",
       " 'https://en.wikipedia.org/w/index.php?title=Python&oldid=866693136',\n",
       " '/wiki/Help:Category',\n",
       " '/wiki/Category:Disambiguation_pages',\n",
       " '/wiki/Category:Disambiguation_pages_with_short_description',\n",
       " '/wiki/Category:All_article_disambiguation_pages',\n",
       " '/wiki/Category:All_disambiguation_pages',\n",
       " '/wiki/Category:Animal_common_name_disambiguation_pages',\n",
       " '/wiki/Special:MyTalk',\n",
       " '/wiki/Special:MyContributions',\n",
       " '/w/index.php?title=Special:CreateAccount&returnto=Python',\n",
       " '/w/index.php?title=Special:UserLogin&returnto=Python',\n",
       " '/wiki/Python',\n",
       " '/wiki/Talk:Python',\n",
       " '/wiki/Python',\n",
       " '/w/index.php?title=Python&action=edit',\n",
       " '/w/index.php?title=Python&action=history',\n",
       " '/wiki/Main_Page',\n",
       " '/wiki/Main_Page',\n",
       " '/wiki/Portal:Contents',\n",
       " '/wiki/Portal:Featured_content',\n",
       " '/wiki/Portal:Current_events',\n",
       " '/wiki/Special:Random',\n",
       " 'https://donate.wikimedia.org/wiki/Special:FundraiserRedirector?utm_source=donate&utm_medium=sidebar&utm_campaign=C13_en.wikipedia.org&uselang=en',\n",
       " '//shop.wikimedia.org',\n",
       " '/wiki/Help:Contents',\n",
       " '/wiki/Wikipedia:About',\n",
       " '/wiki/Wikipedia:Community_portal',\n",
       " '/wiki/Special:RecentChanges',\n",
       " '//en.wikipedia.org/wiki/Wikipedia:Contact_us',\n",
       " '/wiki/Special:WhatLinksHere/Python',\n",
       " '/wiki/Special:RecentChangesLinked/Python',\n",
       " '/wiki/Wikipedia:File_Upload_Wizard',\n",
       " '/wiki/Special:SpecialPages',\n",
       " '/w/index.php?title=Python&oldid=866693136',\n",
       " '/w/index.php?title=Python&action=info',\n",
       " 'https://www.wikidata.org/wiki/Special:EntityPage/Q747452',\n",
       " '/w/index.php?title=Special:CiteThisPage&page=Python&id=866693136',\n",
       " '/w/index.php?title=Special:Book&bookcmd=book_creator&referer=Python',\n",
       " '/w/index.php?title=Special:ElectronPdf&page=Python&action=show-download-screen',\n",
       " '/w/index.php?title=Python&printable=yes',\n",
       " 'https://commons.wikimedia.org/wiki/Category:Python',\n",
       " 'https://af.wikipedia.org/wiki/Python',\n",
       " 'https://als.wikipedia.org/wiki/Python',\n",
       " 'https://az.wikipedia.org/wiki/Python',\n",
       " 'https://bn.wikipedia.org/wiki/%E0%A6%AA%E0%A6%BE%E0%A6%87%E0%A6%A5%E0%A6%A8_(%E0%A6%A6%E0%A7%8D%E0%A6%AC%E0%A7%8D%E0%A6%AF%E0%A6%B0%E0%A7%8D%E0%A6%A5%E0%A6%A4%E0%A6%BE_%E0%A6%A8%E0%A6%BF%E0%A6%B0%E0%A6%B8%E0%A6%A8)',\n",
       " 'https://be.wikipedia.org/wiki/Python',\n",
       " 'https://bg.wikipedia.org/wiki/%D0%9F%D0%B8%D1%82%D0%BE%D0%BD_(%D0%BF%D0%BE%D1%8F%D1%81%D0%BD%D0%B5%D0%BD%D0%B8%D0%B5)',\n",
       " 'https://cs.wikipedia.org/wiki/Python_(rozcestn%C3%ADk)',\n",
       " 'https://da.wikipedia.org/wiki/Python',\n",
       " 'https://de.wikipedia.org/wiki/Python',\n",
       " 'https://eo.wikipedia.org/wiki/Pitono_(apartigilo)',\n",
       " 'https://eu.wikipedia.org/wiki/Python_(argipena)',\n",
       " 'https://fa.wikipedia.org/wiki/%D9%BE%D8%A7%DB%8C%D8%AA%D9%88%D9%86',\n",
       " 'https://fr.wikipedia.org/wiki/Python',\n",
       " 'https://ko.wikipedia.org/wiki/%ED%8C%8C%EC%9D%B4%EC%84%A0',\n",
       " 'https://hr.wikipedia.org/wiki/Python_(razdvojba)',\n",
       " 'https://io.wikipedia.org/wiki/Pitono',\n",
       " 'https://id.wikipedia.org/wiki/Python',\n",
       " 'https://ia.wikipedia.org/wiki/Python_(disambiguation)',\n",
       " 'https://is.wikipedia.org/wiki/Python',\n",
       " 'https://it.wikipedia.org/wiki/Python_(disambigua)',\n",
       " 'https://he.wikipedia.org/wiki/%D7%A4%D7%99%D7%AA%D7%95%D7%9F',\n",
       " 'https://ka.wikipedia.org/wiki/%E1%83%9E%E1%83%98%E1%83%97%E1%83%9D%E1%83%9C%E1%83%98_(%E1%83%9B%E1%83%A0%E1%83%90%E1%83%95%E1%83%90%E1%83%9A%E1%83%9B%E1%83%9C%E1%83%98%E1%83%A8%E1%83%95%E1%83%9C%E1%83%94%E1%83%9A%E1%83%9D%E1%83%95%E1%83%90%E1%83%9C%E1%83%98)',\n",
       " 'https://kg.wikipedia.org/wiki/Mboma_(nyoka)',\n",
       " 'https://la.wikipedia.org/wiki/Python_(discretiva)',\n",
       " 'https://lb.wikipedia.org/wiki/Python',\n",
       " 'https://hu.wikipedia.org/wiki/Python_(egy%C3%A9rtelm%C5%B1s%C3%ADt%C5%91_lap)',\n",
       " 'https://mr.wikipedia.org/wiki/%E0%A4%AA%E0%A4%BE%E0%A4%AF%E0%A4%A5%E0%A5%89%E0%A4%A8_(%E0%A4%86%E0%A4%9C%E0%A5%8D%E0%A4%9E%E0%A4%BE%E0%A4%B5%E0%A4%B2%E0%A5%80_%E0%A4%AD%E0%A4%BE%E0%A4%B7%E0%A4%BE)',\n",
       " 'https://nl.wikipedia.org/wiki/Python',\n",
       " 'https://ja.wikipedia.org/wiki/%E3%83%91%E3%82%A4%E3%82%BD%E3%83%B3',\n",
       " 'https://no.wikipedia.org/wiki/Pyton',\n",
       " 'https://pl.wikipedia.org/wiki/Pyton',\n",
       " 'https://pt.wikipedia.org/wiki/Python_(desambigua%C3%A7%C3%A3o)',\n",
       " 'https://ru.wikipedia.org/wiki/Python_(%D0%B7%D0%BD%D0%B0%D1%87%D0%B5%D0%BD%D0%B8%D1%8F)',\n",
       " 'https://sd.wikipedia.org/wiki/%D8%A7%D8%B1%DA%99',\n",
       " 'https://sk.wikipedia.org/wiki/Python',\n",
       " 'https://sh.wikipedia.org/wiki/Python',\n",
       " 'https://fi.wikipedia.org/wiki/Python',\n",
       " 'https://sv.wikipedia.org/wiki/Pyton',\n",
       " 'https://th.wikipedia.org/wiki/%E0%B9%84%E0%B8%9E%E0%B8%97%E0%B8%AD%E0%B8%99',\n",
       " 'https://tr.wikipedia.org/wiki/Python',\n",
       " 'https://uk.wikipedia.org/wiki/%D0%9F%D1%96%D1%84%D0%BE%D0%BD',\n",
       " 'https://ur.wikipedia.org/wiki/%D9%BE%D8%A7%D8%A6%DB%8C%D8%AA%DA%BE%D9%88%D9%86',\n",
       " 'https://vi.wikipedia.org/wiki/Python',\n",
       " 'https://zh.wikipedia.org/wiki/Python_(%E6%B6%88%E6%AD%A7%E4%B9%89)',\n",
       " 'https://www.wikidata.org/wiki/Special:EntityPage/Q747452#sitelinks-wikipedia',\n",
       " '//en.wikipedia.org/wiki/Wikipedia:Text_of_Creative_Commons_Attribution-ShareAlike_3.0_Unported_License',\n",
       " '//creativecommons.org/licenses/by-sa/3.0/',\n",
       " '//foundation.wikimedia.org/wiki/Terms_of_Use',\n",
       " '//foundation.wikimedia.org/wiki/Privacy_policy',\n",
       " '//www.wikimediafoundation.org/',\n",
       " 'https://foundation.wikimedia.org/wiki/Privacy_policy',\n",
       " '/wiki/Wikipedia:About',\n",
       " '/wiki/Wikipedia:General_disclaimer',\n",
       " '//en.wikipedia.org/wiki/Wikipedia:Contact_us',\n",
       " 'https://www.mediawiki.org/wiki/Special:MyLanguage/How_to_contribute',\n",
       " 'https://foundation.wikimedia.org/wiki/Cookie_statement',\n",
       " '//en.m.wikipedia.org/w/index.php?title=Python&mobileaction=toggle_view_mobile',\n",
       " 'https://wikimediafoundation.org/',\n",
       " '//www.mediawiki.org/']"
      ]
     },
     "execution_count": 15,
     "metadata": {},
     "output_type": "execute_result"
    }
   ],
   "source": [
    "links = [e[\"href\"] for e in soup5.select('a') if 'href' in e.attrs]\n",
    "links"
   ]
  },
  {
   "cell_type": "markdown",
   "metadata": {},
   "source": [
    "### 6. Number of Titles that have changed in the United States Code since its last release point "
   ]
  },
  {
   "cell_type": "code",
   "execution_count": 16,
   "metadata": {},
   "outputs": [],
   "source": [
    "# This is the url you will scrape in this exercise\n",
    "url6 = 'http://uscode.house.gov/download/download.shtml'"
   ]
  },
  {
   "cell_type": "code",
   "execution_count": 17,
   "metadata": {},
   "outputs": [],
   "source": [
    "html6 = requests.get(url6).content\n",
    "soup6 = BeautifulSoup(html6, \"lxml\")"
   ]
  },
  {
   "cell_type": "code",
   "execution_count": 18,
   "metadata": {},
   "outputs": [
    {
     "data": {
      "text/plain": [
       "18"
      ]
     },
     "execution_count": 18,
     "metadata": {},
     "output_type": "execute_result"
    }
   ],
   "source": [
    "changed = [e for e in soup6.select('.usctitlechanged')]\n",
    "len(changed)"
   ]
  },
  {
   "cell_type": "markdown",
   "metadata": {},
   "source": [
    "### 7. A Python list with the top ten FBI's Most Wanted names "
   ]
  },
  {
   "cell_type": "code",
   "execution_count": 19,
   "metadata": {},
   "outputs": [],
   "source": [
    "# This is the url you will scrape in this exercise\n",
    "url7 = 'https://www.fbi.gov/wanted/topten'"
   ]
  },
  {
   "cell_type": "code",
   "execution_count": 20,
   "metadata": {},
   "outputs": [],
   "source": [
    "html7 = requests.get(url7).content\n",
    "soup7 = BeautifulSoup(html7, \"lxml\")"
   ]
  },
  {
   "cell_type": "code",
   "execution_count": 21,
   "metadata": {},
   "outputs": [
    {
     "data": {
      "text/plain": [
       "['BHADRESHKUMAR CHETANBHAI PATEL',\n",
       " 'LAMONT STEPHENSON',\n",
       " 'JASON DEREK BROWN',\n",
       " 'GREG ALYN CARLSON',\n",
       " 'SANTIAGO VILLALBA MEDEROS',\n",
       " 'RAFAEL CARO-QUINTERO',\n",
       " 'ROBERT WILLIAM FISHER',\n",
       " 'ALEXIS FLORES',\n",
       " 'ALEJANDRO ROSALES CASTILLO',\n",
       " 'YASER ABDEL SAID']"
      ]
     },
     "execution_count": 21,
     "metadata": {},
     "output_type": "execute_result"
    }
   ],
   "source": [
    "top = [e.text.strip() for e in soup7.select('h3')]\n",
    "top"
   ]
  },
  {
   "cell_type": "markdown",
   "metadata": {},
   "source": [
    "### 8.  20 latest earthquakes info (date, time, latitude, longitude and region name) by the EMSC as a pandas dataframe"
   ]
  },
  {
   "cell_type": "code",
   "execution_count": 22,
   "metadata": {},
   "outputs": [],
   "source": [
    "# This is the url you will scrape in this exercise\n",
    "url8 = 'https://www.emsc-csem.org/Earthquake/'"
   ]
  },
  {
   "cell_type": "code",
   "execution_count": 23,
   "metadata": {},
   "outputs": [],
   "source": [
    "html8 = requests.get(url8).content\n",
    "soup8 = BeautifulSoup(html8, \"lxml\")"
   ]
  },
  {
   "cell_type": "code",
   "execution_count": 85,
   "metadata": {},
   "outputs": [],
   "source": [
    "table = soup8.find('tbody')\n",
    "rows = table.find_all('tr')\n",
    "for row in rows:\n",
    "    cols=row.find_all('td')\n",
    "    cols=[x.text.strip() for x in cols]"
   ]
  },
  {
   "cell_type": "code",
   "execution_count": 86,
   "metadata": {},
   "outputs": [
    {
     "data": {
      "text/html": [
       "<div>\n",
       "<style scoped>\n",
       "    .dataframe tbody tr th:only-of-type {\n",
       "        vertical-align: middle;\n",
       "    }\n",
       "\n",
       "    .dataframe tbody tr th {\n",
       "        vertical-align: top;\n",
       "    }\n",
       "\n",
       "    .dataframe thead th {\n",
       "        text-align: right;\n",
       "    }\n",
       "</style>\n",
       "<table border=\"1\" class=\"dataframe\">\n",
       "  <thead>\n",
       "    <tr style=\"text-align: right;\">\n",
       "      <th></th>\n",
       "      <th>Country</th>\n",
       "    </tr>\n",
       "  </thead>\n",
       "  <tbody>\n",
       "    <tr>\n",
       "      <th>0</th>\n",
       "      <td>1</td>\n",
       "    </tr>\n",
       "    <tr>\n",
       "      <th>1</th>\n",
       "      <td></td>\n",
       "    </tr>\n",
       "    <tr>\n",
       "      <th>2</th>\n",
       "      <td>F</td>\n",
       "    </tr>\n",
       "    <tr>\n",
       "      <th>3</th>\n",
       "      <td>earthquake2018-11-01   00:14:34.010hr 04min ago</td>\n",
       "    </tr>\n",
       "    <tr>\n",
       "      <th>4</th>\n",
       "      <td>38.23</td>\n",
       "    </tr>\n",
       "    <tr>\n",
       "      <th>5</th>\n",
       "      <td>N</td>\n",
       "    </tr>\n",
       "    <tr>\n",
       "      <th>6</th>\n",
       "      <td>15.11</td>\n",
       "    </tr>\n",
       "    <tr>\n",
       "      <th>7</th>\n",
       "      <td>E</td>\n",
       "    </tr>\n",
       "    <tr>\n",
       "      <th>8</th>\n",
       "      <td>13</td>\n",
       "    </tr>\n",
       "    <tr>\n",
       "      <th>9</th>\n",
       "      <td>Mw</td>\n",
       "    </tr>\n",
       "    <tr>\n",
       "      <th>10</th>\n",
       "      <td>3.2</td>\n",
       "    </tr>\n",
       "    <tr>\n",
       "      <th>11</th>\n",
       "      <td>SICILY, ITALY</td>\n",
       "    </tr>\n",
       "    <tr>\n",
       "      <th>12</th>\n",
       "      <td>2018-11-01 01:05</td>\n",
       "    </tr>\n",
       "  </tbody>\n",
       "</table>\n",
       "</div>"
      ],
      "text/plain": [
       "                                            Country\n",
       "0                                                 1\n",
       "1                                                  \n",
       "2                                                 F\n",
       "3   earthquake2018-11-01   00:14:34.010hr 04min ago\n",
       "4                                             38.23\n",
       "5                                                 N\n",
       "6                                             15.11\n",
       "7                                                 E\n",
       "8                                                13\n",
       "9                                                Mw\n",
       "10                                              3.2\n",
       "11                                    SICILY, ITALY\n",
       "12                                 2018-11-01 01:05"
      ]
     },
     "execution_count": 86,
     "metadata": {},
     "output_type": "execute_result"
    }
   ],
   "source": [
    "df = pd.DataFrame(cols)\n",
    "df.columns = ['Country']\n",
    "df"
   ]
  },
  {
   "cell_type": "code",
   "execution_count": 75,
   "metadata": {},
   "outputs": [],
   "source": [
    "a = [e.text.split() for e in soup8.select('.tabev1')]"
   ]
  },
  {
   "cell_type": "code",
   "execution_count": 74,
   "metadata": {},
   "outputs": [],
   "source": [
    "region = [e.text.split() for e in soup8.select('.tb_region')]"
   ]
  },
  {
   "cell_type": "code",
   "execution_count": 73,
   "metadata": {},
   "outputs": [],
   "source": [
    "c = [e.text.split() for e in soup8.select('.tabev6')]"
   ]
  },
  {
   "cell_type": "code",
   "execution_count": 72,
   "metadata": {},
   "outputs": [],
   "source": [
    "b = [e.text.split() for e in soup8.select('.tabev2')]"
   ]
  },
  {
   "cell_type": "markdown",
   "metadata": {},
   "source": [
    "### 9. Display the date, days, title, city, country of next 25 Hackevents as a table"
   ]
  },
  {
   "cell_type": "code",
   "execution_count": 54,
   "metadata": {},
   "outputs": [],
   "source": [
    "# This is the url you will scrape in this exercise\n",
    "url9 ='https://hackevents.co/hackathons'"
   ]
  },
  {
   "cell_type": "code",
   "execution_count": 55,
   "metadata": {},
   "outputs": [],
   "source": [
    "html9 = requests.get(url9).content\n",
    "soup9 = BeautifulSoup(html9, \"lxml\")"
   ]
  },
  {
   "cell_type": "code",
   "execution_count": 97,
   "metadata": {},
   "outputs": [
    {
     "data": {
      "text/plain": [
       "['Nov\\n    \\n\\n       2\\n    \\n\\n        Fri-Sun',\n",
       " 'Nov\\n    \\n\\n       2\\n    \\n\\n        Fri-Sun',\n",
       " 'Nov\\n    \\n\\n       3\\n    \\n\\n        Sat-Sun',\n",
       " 'Nov\\n    \\n\\n       3\\n    \\n\\n        Sat-Sun',\n",
       " 'Nov\\n    \\n\\n       3\\n    \\n\\n        Sat',\n",
       " 'Nov\\n    \\n\\n       3\\n    \\n\\n        Sat-Sun',\n",
       " 'Nov\\n    \\n\\n       3\\n    \\n\\n        Sat-Sun',\n",
       " 'Nov\\n    \\n\\n       3\\n    \\n\\n        Sat-Sun',\n",
       " 'Nov\\n    \\n\\n       3\\n    \\n\\n        Sat-Sun',\n",
       " 'Nov\\n    \\n\\n       3\\n    \\n\\n        Sat-Sun',\n",
       " 'Nov\\n    \\n\\n       3\\n    \\n\\n        Sat-Sun',\n",
       " 'Nov\\n    \\n\\n       3\\n    \\n\\n        Sat-Sun',\n",
       " 'Nov\\n    \\n\\n       3\\n    \\n\\n        Sat-Sun',\n",
       " 'Nov\\n    \\n\\n       3\\n    \\n\\n        Sat-Sun',\n",
       " 'Nov\\n    \\n\\n       3\\n    \\n\\n        Sat-Sun',\n",
       " 'Nov\\n    \\n\\n       3\\n    \\n\\n        Sat',\n",
       " 'Nov\\n    \\n\\n       3\\n    \\n\\n        Sat-Sun',\n",
       " 'Nov\\n    \\n\\n       3\\n    \\n\\n        Sat-Sun',\n",
       " 'Nov\\n    \\n\\n       3\\n    \\n\\n        Sat-Sun',\n",
       " 'Nov\\n    \\n\\n       3\\n    \\n\\n        Sat-Sun',\n",
       " 'Nov\\n    \\n\\n       3\\n    \\n\\n        Sat-Sun',\n",
       " 'Nov\\n    \\n\\n       3\\n    \\n\\n        Sat-Sun',\n",
       " 'Nov\\n    \\n\\n       3\\n    \\n\\n        Sat-Sun',\n",
       " 'Nov\\n    \\n\\n       3\\n    \\n\\n        Sat-Sun',\n",
       " 'Nov\\n    \\n\\n       3\\n    \\n\\n        Sat-Sun']"
      ]
     },
     "execution_count": 97,
     "metadata": {},
     "output_type": "execute_result"
    }
   ],
   "source": [
    "date = [e.text.strip()for e in soup9.select('.date')]\n",
    "date "
   ]
  },
  {
   "cell_type": "code",
   "execution_count": 96,
   "metadata": {},
   "outputs": [
    {
     "data": {
      "text/plain": [
       "['Hack Access Dublin 2017 - register your interest!\\n\\n\\nDublin, Ireland\\n\\n\\n        \\n         2\\n        -\\n         4 November',\n",
       " 'Disrupt Puerto Rico - Conference & Hackathon\\n\\n\\nSan Juan, Puerto Rico\\n\\n\\n        \\n         2\\n        -\\n         4 November',\n",
       " 'jacobsHack! 2018\\n\\n\\nBremen, Germany\\n\\n\\n        \\n         3\\n        -\\n         4 November',\n",
       " 'jacobsHack! 2018\\n\\n\\nBremen, Germany\\n\\n\\n        \\n         3\\n        -\\n         4 November',\n",
       " \"Women's Hackathon\\n\\n\\nSt. Louis, USA\\n\\n\\n        \\n         3\\n        -\\n         3 November\",\n",
       " 'jacobsHack! 2018\\n\\n\\nBremen, Germany\\n\\n\\n        \\n         3\\n        -\\n         4 November',\n",
       " 'HackTheMidlands 3.0\\n\\n\\nBirmingham, United Kingdom\\n\\n\\n        \\n         3\\n        -\\n         4 November',\n",
       " 'jacobsHack! 2018\\n\\n\\nBremen, Germany\\n\\n\\n        \\n         3\\n        -\\n         4 November',\n",
       " 'jacobsHack! 2018\\n\\n\\nBremen, Germany\\n\\n\\n        \\n         3\\n        -\\n         4 November',\n",
       " 'jacobsHack! 2018\\n\\n\\nBremen, Germany\\n\\n\\n        \\n         3\\n        -\\n         4 November',\n",
       " 'jacobsHack! 2018\\n\\n\\nBremen, Germany\\n\\n\\n        \\n         3\\n        -\\n         4 November',\n",
       " 'jacobsHack! 2018\\n\\n\\nBremen, Germany\\n\\n\\n        \\n         3\\n        -\\n         4 November',\n",
       " 'jacobsHack! 2018\\n\\n\\nBremen, Germany\\n\\n\\n        \\n         3\\n        -\\n         4 November',\n",
       " 'jacobsHack! 2018\\n\\n\\nBremen, Germany\\n\\n\\n        \\n         3\\n        -\\n         4 November',\n",
       " 'jacobsHack! 2018\\n\\n\\nBremen, Germany\\n\\n\\n        \\n         3\\n        -\\n         4 November',\n",
       " \"Women's Hackathon\\n\\n\\nSt. Louis, USA\\n\\n\\n        \\n         3\\n        -\\n         3 November\",\n",
       " 'jacobsHack! 2018\\n\\n\\nBremen, Germany\\n\\n\\n        \\n         3\\n        -\\n         4 November',\n",
       " 'jacobsHack! 2018\\n\\n\\nBremen, Germany\\n\\n\\n        \\n         3\\n        -\\n         4 November',\n",
       " 'jacobsHack! 2018\\n\\n\\nBremen, Germany\\n\\n\\n        \\n         3\\n        -\\n         4 November',\n",
       " 'jacobsHack! 2018\\n\\n\\nBremen, Germany\\n\\n\\n        \\n         3\\n        -\\n         4 November',\n",
       " 'jacobsHack! 2018\\n\\n\\nBremen, Germany\\n\\n\\n        \\n         3\\n        -\\n         4 November',\n",
       " 'jacobsHack! 2018\\n\\n\\nBremen, Germany\\n\\n\\n        \\n         3\\n        -\\n         4 November',\n",
       " 'jacobsHack! 2018\\n\\n\\nBremen, Germany\\n\\n\\n        \\n         3\\n        -\\n         4 November',\n",
       " 'jacobsHack! 2018\\n\\n\\nBremen, Germany\\n\\n\\n        \\n         3\\n        -\\n         4 November',\n",
       " 'jacobsHack! 2018\\n\\n\\nBremen, Germany\\n\\n\\n        \\n         3\\n        -\\n         4 November']"
      ]
     },
     "execution_count": 96,
     "metadata": {},
     "output_type": "execute_result"
    }
   ],
   "source": [
    "info = [e.text.strip() for e in soup9.select('.info')]\n",
    "info "
   ]
  },
  {
   "cell_type": "code",
   "execution_count": 99,
   "metadata": {},
   "outputs": [
    {
     "data": {
      "text/html": [
       "<div>\n",
       "<style scoped>\n",
       "    .dataframe tbody tr th:only-of-type {\n",
       "        vertical-align: middle;\n",
       "    }\n",
       "\n",
       "    .dataframe tbody tr th {\n",
       "        vertical-align: top;\n",
       "    }\n",
       "\n",
       "    .dataframe thead th {\n",
       "        text-align: right;\n",
       "    }\n",
       "</style>\n",
       "<table border=\"1\" class=\"dataframe\">\n",
       "  <thead>\n",
       "    <tr style=\"text-align: right;\">\n",
       "      <th></th>\n",
       "      <th>title</th>\n",
       "    </tr>\n",
       "  </thead>\n",
       "  <tbody>\n",
       "    <tr>\n",
       "      <th>0</th>\n",
       "      <td>Hack Access Dublin 2017 - register your intere...</td>\n",
       "    </tr>\n",
       "    <tr>\n",
       "      <th>1</th>\n",
       "      <td>Disrupt Puerto Rico - Conference &amp; Hackathon\\n...</td>\n",
       "    </tr>\n",
       "    <tr>\n",
       "      <th>2</th>\n",
       "      <td>jacobsHack! 2018\\n\\n\\nBremen, Germany\\n\\n\\n   ...</td>\n",
       "    </tr>\n",
       "    <tr>\n",
       "      <th>3</th>\n",
       "      <td>jacobsHack! 2018\\n\\n\\nBremen, Germany\\n\\n\\n   ...</td>\n",
       "    </tr>\n",
       "    <tr>\n",
       "      <th>4</th>\n",
       "      <td>Women's Hackathon\\n\\n\\nSt. Louis, USA\\n\\n\\n   ...</td>\n",
       "    </tr>\n",
       "    <tr>\n",
       "      <th>5</th>\n",
       "      <td>jacobsHack! 2018\\n\\n\\nBremen, Germany\\n\\n\\n   ...</td>\n",
       "    </tr>\n",
       "    <tr>\n",
       "      <th>6</th>\n",
       "      <td>HackTheMidlands 3.0\\n\\n\\nBirmingham, United Ki...</td>\n",
       "    </tr>\n",
       "    <tr>\n",
       "      <th>7</th>\n",
       "      <td>jacobsHack! 2018\\n\\n\\nBremen, Germany\\n\\n\\n   ...</td>\n",
       "    </tr>\n",
       "    <tr>\n",
       "      <th>8</th>\n",
       "      <td>jacobsHack! 2018\\n\\n\\nBremen, Germany\\n\\n\\n   ...</td>\n",
       "    </tr>\n",
       "    <tr>\n",
       "      <th>9</th>\n",
       "      <td>jacobsHack! 2018\\n\\n\\nBremen, Germany\\n\\n\\n   ...</td>\n",
       "    </tr>\n",
       "    <tr>\n",
       "      <th>10</th>\n",
       "      <td>jacobsHack! 2018\\n\\n\\nBremen, Germany\\n\\n\\n   ...</td>\n",
       "    </tr>\n",
       "    <tr>\n",
       "      <th>11</th>\n",
       "      <td>jacobsHack! 2018\\n\\n\\nBremen, Germany\\n\\n\\n   ...</td>\n",
       "    </tr>\n",
       "    <tr>\n",
       "      <th>12</th>\n",
       "      <td>jacobsHack! 2018\\n\\n\\nBremen, Germany\\n\\n\\n   ...</td>\n",
       "    </tr>\n",
       "    <tr>\n",
       "      <th>13</th>\n",
       "      <td>jacobsHack! 2018\\n\\n\\nBremen, Germany\\n\\n\\n   ...</td>\n",
       "    </tr>\n",
       "    <tr>\n",
       "      <th>14</th>\n",
       "      <td>jacobsHack! 2018\\n\\n\\nBremen, Germany\\n\\n\\n   ...</td>\n",
       "    </tr>\n",
       "    <tr>\n",
       "      <th>15</th>\n",
       "      <td>Women's Hackathon\\n\\n\\nSt. Louis, USA\\n\\n\\n   ...</td>\n",
       "    </tr>\n",
       "    <tr>\n",
       "      <th>16</th>\n",
       "      <td>jacobsHack! 2018\\n\\n\\nBremen, Germany\\n\\n\\n   ...</td>\n",
       "    </tr>\n",
       "    <tr>\n",
       "      <th>17</th>\n",
       "      <td>jacobsHack! 2018\\n\\n\\nBremen, Germany\\n\\n\\n   ...</td>\n",
       "    </tr>\n",
       "    <tr>\n",
       "      <th>18</th>\n",
       "      <td>jacobsHack! 2018\\n\\n\\nBremen, Germany\\n\\n\\n   ...</td>\n",
       "    </tr>\n",
       "    <tr>\n",
       "      <th>19</th>\n",
       "      <td>jacobsHack! 2018\\n\\n\\nBremen, Germany\\n\\n\\n   ...</td>\n",
       "    </tr>\n",
       "    <tr>\n",
       "      <th>20</th>\n",
       "      <td>jacobsHack! 2018\\n\\n\\nBremen, Germany\\n\\n\\n   ...</td>\n",
       "    </tr>\n",
       "    <tr>\n",
       "      <th>21</th>\n",
       "      <td>jacobsHack! 2018\\n\\n\\nBremen, Germany\\n\\n\\n   ...</td>\n",
       "    </tr>\n",
       "    <tr>\n",
       "      <th>22</th>\n",
       "      <td>jacobsHack! 2018\\n\\n\\nBremen, Germany\\n\\n\\n   ...</td>\n",
       "    </tr>\n",
       "    <tr>\n",
       "      <th>23</th>\n",
       "      <td>jacobsHack! 2018\\n\\n\\nBremen, Germany\\n\\n\\n   ...</td>\n",
       "    </tr>\n",
       "    <tr>\n",
       "      <th>24</th>\n",
       "      <td>jacobsHack! 2018\\n\\n\\nBremen, Germany\\n\\n\\n   ...</td>\n",
       "    </tr>\n",
       "  </tbody>\n",
       "</table>\n",
       "</div>"
      ],
      "text/plain": [
       "                                                title\n",
       "0   Hack Access Dublin 2017 - register your intere...\n",
       "1   Disrupt Puerto Rico - Conference & Hackathon\\n...\n",
       "2   jacobsHack! 2018\\n\\n\\nBremen, Germany\\n\\n\\n   ...\n",
       "3   jacobsHack! 2018\\n\\n\\nBremen, Germany\\n\\n\\n   ...\n",
       "4   Women's Hackathon\\n\\n\\nSt. Louis, USA\\n\\n\\n   ...\n",
       "5   jacobsHack! 2018\\n\\n\\nBremen, Germany\\n\\n\\n   ...\n",
       "6   HackTheMidlands 3.0\\n\\n\\nBirmingham, United Ki...\n",
       "7   jacobsHack! 2018\\n\\n\\nBremen, Germany\\n\\n\\n   ...\n",
       "8   jacobsHack! 2018\\n\\n\\nBremen, Germany\\n\\n\\n   ...\n",
       "9   jacobsHack! 2018\\n\\n\\nBremen, Germany\\n\\n\\n   ...\n",
       "10  jacobsHack! 2018\\n\\n\\nBremen, Germany\\n\\n\\n   ...\n",
       "11  jacobsHack! 2018\\n\\n\\nBremen, Germany\\n\\n\\n   ...\n",
       "12  jacobsHack! 2018\\n\\n\\nBremen, Germany\\n\\n\\n   ...\n",
       "13  jacobsHack! 2018\\n\\n\\nBremen, Germany\\n\\n\\n   ...\n",
       "14  jacobsHack! 2018\\n\\n\\nBremen, Germany\\n\\n\\n   ...\n",
       "15  Women's Hackathon\\n\\n\\nSt. Louis, USA\\n\\n\\n   ...\n",
       "16  jacobsHack! 2018\\n\\n\\nBremen, Germany\\n\\n\\n   ...\n",
       "17  jacobsHack! 2018\\n\\n\\nBremen, Germany\\n\\n\\n   ...\n",
       "18  jacobsHack! 2018\\n\\n\\nBremen, Germany\\n\\n\\n   ...\n",
       "19  jacobsHack! 2018\\n\\n\\nBremen, Germany\\n\\n\\n   ...\n",
       "20  jacobsHack! 2018\\n\\n\\nBremen, Germany\\n\\n\\n   ...\n",
       "21  jacobsHack! 2018\\n\\n\\nBremen, Germany\\n\\n\\n   ...\n",
       "22  jacobsHack! 2018\\n\\n\\nBremen, Germany\\n\\n\\n   ...\n",
       "23  jacobsHack! 2018\\n\\n\\nBremen, Germany\\n\\n\\n   ...\n",
       "24  jacobsHack! 2018\\n\\n\\nBremen, Germany\\n\\n\\n   ..."
      ]
     },
     "execution_count": 99,
     "metadata": {},
     "output_type": "execute_result"
    }
   ],
   "source": [
    "df = pd.DataFrame(info)\n",
    "df.columns = ['title']\n",
    "df"
   ]
  },
  {
   "cell_type": "markdown",
   "metadata": {},
   "source": [
    "### 10. Count number of tweets by a given Twitter account."
   ]
  },
  {
   "cell_type": "markdown",
   "metadata": {},
   "source": [
    "You will need to include a ***try/except block*** for account names not found. \n",
    "<br>***Hint:*** the program should count the number of tweets for any provided account"
   ]
  },
  {
   "cell_type": "code",
   "execution_count": null,
   "metadata": {},
   "outputs": [],
   "source": [
    "# This is the url you will scrape in this exercise \n",
    "# You will need to add the account credentials to this url\n",
    "url = 'https://twitter.com/'"
   ]
  },
  {
   "cell_type": "code",
   "execution_count": null,
   "metadata": {},
   "outputs": [],
   "source": [
    "#your code"
   ]
  },
  {
   "cell_type": "markdown",
   "metadata": {},
   "source": [
    "### 11.Number of followers of a given twitter account"
   ]
  },
  {
   "cell_type": "markdown",
   "metadata": {},
   "source": [
    "You will need to include a ***try/except block*** in case account/s name not found. \n",
    "<br>***Hint:*** the program should count the followers for any provided account"
   ]
  },
  {
   "cell_type": "code",
   "execution_count": null,
   "metadata": {},
   "outputs": [],
   "source": [
    "# This is the url you will scrape in this exercise \n",
    "# You will need to add the account credentials to this url\n",
    "url = 'https://twitter.com/'"
   ]
  },
  {
   "cell_type": "code",
   "execution_count": null,
   "metadata": {},
   "outputs": [],
   "source": [
    "#your code"
   ]
  },
  {
   "cell_type": "markdown",
   "metadata": {},
   "source": [
    "### 12. List all language names and number of related articles in the order they appear in wikipedia.org"
   ]
  },
  {
   "cell_type": "code",
   "execution_count": null,
   "metadata": {},
   "outputs": [],
   "source": [
    "# This is the url you will scrape in this exercise\n",
    "url = 'https://www.wikipedia.org/'"
   ]
  },
  {
   "cell_type": "code",
   "execution_count": null,
   "metadata": {},
   "outputs": [],
   "source": [
    "#your code"
   ]
  },
  {
   "cell_type": "markdown",
   "metadata": {},
   "source": [
    "### 13. A list with the different kind of datasets available in data.gov.uk "
   ]
  },
  {
   "cell_type": "code",
   "execution_count": null,
   "metadata": {},
   "outputs": [],
   "source": [
    "# This is the url you will scrape in this exercise\n",
    "url = 'https://data.gov.uk/'"
   ]
  },
  {
   "cell_type": "code",
   "execution_count": null,
   "metadata": {},
   "outputs": [],
   "source": [
    "#your code "
   ]
  },
  {
   "cell_type": "markdown",
   "metadata": {},
   "source": [
    "### 14. The total number of publications produced by the GAO (U.S. Government Accountability Office)"
   ]
  },
  {
   "cell_type": "code",
   "execution_count": null,
   "metadata": {},
   "outputs": [],
   "source": [
    "# This is the url you will scrape in this exercise\n",
    "url = 'http://www.gao.gov/browse/date/custom'"
   ]
  },
  {
   "cell_type": "code",
   "execution_count": null,
   "metadata": {},
   "outputs": [],
   "source": [
    "#your code "
   ]
  },
  {
   "cell_type": "markdown",
   "metadata": {},
   "source": [
    "### 15. Top 10 languages by number of native speakers stored in a Pandas Dataframe"
   ]
  },
  {
   "cell_type": "code",
   "execution_count": null,
   "metadata": {},
   "outputs": [],
   "source": [
    "# This is the url you will scrape in this exercise\n",
    "url = 'https://en.wikipedia.org/wiki/List_of_languages_by_number_of_native_speakers'"
   ]
  },
  {
   "cell_type": "code",
   "execution_count": null,
   "metadata": {},
   "outputs": [],
   "source": [
    "#your code"
   ]
  },
  {
   "cell_type": "markdown",
   "metadata": {},
   "source": [
    "### BONUS QUESTIONS"
   ]
  },
  {
   "cell_type": "markdown",
   "metadata": {},
   "source": [
    "### 16. Scrape a certain number of tweets of a given Twitter account."
   ]
  },
  {
   "cell_type": "code",
   "execution_count": null,
   "metadata": {},
   "outputs": [],
   "source": [
    "# This is the url you will scrape in this exercise \n",
    "# You will need to add the account credentials to this url\n",
    "url = 'https://twitter.com/'"
   ]
  },
  {
   "cell_type": "code",
   "execution_count": null,
   "metadata": {},
   "outputs": [],
   "source": [
    "# your code"
   ]
  },
  {
   "cell_type": "markdown",
   "metadata": {},
   "source": [
    "### 17. IMDB's Top 250 data (movie name, Initial release, director name and stars) as a pandas dataframe"
   ]
  },
  {
   "cell_type": "code",
   "execution_count": null,
   "metadata": {},
   "outputs": [],
   "source": [
    "# This is the url you will scrape in this exercise \n",
    "url = 'https://www.imdb.com/chart/top'"
   ]
  },
  {
   "cell_type": "code",
   "execution_count": null,
   "metadata": {},
   "outputs": [],
   "source": [
    "# your code"
   ]
  },
  {
   "cell_type": "markdown",
   "metadata": {},
   "source": [
    "### 18. Movie name, year and a brief summary of the top 10 random movies (IMDB) as a pandas dataframe."
   ]
  },
  {
   "cell_type": "code",
   "execution_count": null,
   "metadata": {},
   "outputs": [],
   "source": [
    "#This is the url you will scrape in this exercise\n",
    "url = 'http://www.imdb.com/chart/top'"
   ]
  },
  {
   "cell_type": "code",
   "execution_count": null,
   "metadata": {},
   "outputs": [],
   "source": [
    "#your code"
   ]
  },
  {
   "cell_type": "markdown",
   "metadata": {},
   "source": [
    "### 19. Find the live weather report (temperature, wind speed, description and weather) of a given city."
   ]
  },
  {
   "cell_type": "code",
   "execution_count": null,
   "metadata": {},
   "outputs": [],
   "source": [
    "#https://openweathermap.org/current\n",
    "city = city=input('Enter the city:')\n",
    "url = 'http://api.openweathermap.org/data/2.5/weather?'+'q='+city+'&APPID=b35975e18dc93725acb092f7272cc6b8&units=metric'"
   ]
  },
  {
   "cell_type": "code",
   "execution_count": null,
   "metadata": {},
   "outputs": [],
   "source": [
    "# your code"
   ]
  },
  {
   "cell_type": "markdown",
   "metadata": {},
   "source": [
    "### 20. Book name,price and stock availability as a pandas dataframe."
   ]
  },
  {
   "cell_type": "code",
   "execution_count": null,
   "metadata": {},
   "outputs": [],
   "source": [
    "# This is the url you will scrape in this exercise. \n",
    "# It is a fictional bookstore created to be scraped. \n",
    "url = 'http://books.toscrape.com/'"
   ]
  },
  {
   "cell_type": "code",
   "execution_count": null,
   "metadata": {},
   "outputs": [],
   "source": [
    "#your code"
   ]
  }
 ],
 "metadata": {
  "kernelspec": {
   "display_name": "Python 3",
   "language": "python",
   "name": "python3"
  },
  "language_info": {
   "codemirror_mode": {
    "name": "ipython",
    "version": 3
   },
   "file_extension": ".py",
   "mimetype": "text/x-python",
   "name": "python",
   "nbconvert_exporter": "python",
   "pygments_lexer": "ipython3",
   "version": "3.7.0"
  }
 },
 "nbformat": 4,
 "nbformat_minor": 2
}
