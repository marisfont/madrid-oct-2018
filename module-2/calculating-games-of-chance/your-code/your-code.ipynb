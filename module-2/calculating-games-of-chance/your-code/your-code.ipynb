{
 "cells": [
  {
   "cell_type": "markdown",
   "metadata": {},
   "source": [
    "# Guided Project: Calculating Probabilities of Games of Chance\n",
    "\n",
    "## Select a game of chance: Blackjack\n",
    "I selected Blackjack as the game of chance for the excersize.\n",
    "The two outcomes I selected are:\n",
    "- Getting a blackjack in with the first 2 cards dealt \n",
    "- Getting 2 As with the first 2 cards dealt"
   ]
  },
  {
   "cell_type": "code",
   "execution_count": 2,
   "metadata": {},
   "outputs": [],
   "source": [
    "import scipy.misc as scipy"
   ]
  },
  {
   "cell_type": "markdown",
   "metadata": {},
   "source": [
    "- I defined:\n",
    "    - cards, which is the number of cards in a deck\n",
    "    - decks, which is the number of decks in which the game of chance will be executed\n",
    "    - sample_space, which is the number of cards multiplied by the number of decks \n",
    "- Since with the first two cards dealt in blackjack, order does not matter, I will use the combination formula to get the number of possible ways of getting a combination of any 2 cards. To do so, I used the Scipy function comb.\n",
    "    - There are 1326 two-card combinations in one deck"
   ]
  },
  {
   "cell_type": "code",
   "execution_count": 9,
   "metadata": {},
   "outputs": [
    {
     "name": "stderr",
     "output_type": "stream",
     "text": [
      "/usr/local/Cellar/ipython/7.0.1/libexec/vendor/lib/python3.7/site-packages/ipykernel_launcher.py:5: DeprecationWarning: `comb` is deprecated!\n",
      "Importing `comb` from scipy.misc is deprecated in scipy 1.0.0. Use `scipy.special.comb` instead.\n",
      "  \"\"\"\n"
     ]
    },
    {
     "data": {
      "text/plain": [
       "1326.0"
      ]
     },
     "execution_count": 9,
     "metadata": {},
     "output_type": "execute_result"
    }
   ],
   "source": [
    "cards = 52\n",
    "decks = 1\n",
    "sample_space = cards * decks\n",
    "\n",
    "combination = scipy.comb(sample_space, 2)\n",
    "combination"
   ]
  },
  {
   "cell_type": "markdown",
   "metadata": {},
   "source": [
    "- The probability of an event is the ratio between the number of times an event occurred and the size of the sample space.\n",
    "- A blackjack occurs when the deck dealt sums up to 21. This happens with 4 outcomes, which I listed below:\n",
    "     - 10 and A\n",
    "     - J and A\n",
    "     - Q and A\n",
    "     - K and A\n",
    "        - Since there are 4 possible outcomes and 4 cards of each, the number of times the event occurs is 16 \n",
    "        - I proceded to calculate the probability of getting a blackjack with the first 2 cards dealt\n",
    "- There are 4 As in the set, therefore getting 2 As with the first 2 cards dealt can only occur 2 times \n",
    "     - I proceded to calculate the probability of getting 2 As with the first 2 cards dealt"
   ]
  },
  {
   "cell_type": "code",
   "execution_count": 19,
   "metadata": {},
   "outputs": [
    {
     "name": "stdout",
     "output_type": "stream",
     "text": [
      "probability of blackjack = 0.012066365007541479\n",
      "probability of two As = 0.0015082956259426848\n"
     ]
    }
   ],
   "source": [
    "blackjack_p = 16/combination\n",
    "print(\"probability of blackjack = %s\" %(blackjack_p)) \n",
    "\n",
    "twoAs_p = 2/combination\n",
    "print(\"probability of two As = %s\" %(twoAs_p))"
   ]
  },
  {
   "cell_type": "markdown",
   "metadata": {},
   "source": [
    "- The odds of an event are the ratio between the probability that an event will occur and the probability that an event will not occur\n",
    "- With the probability for both events calculated, I proceded to calculate the odds"
   ]
  },
  {
   "cell_type": "code",
   "execution_count": 20,
   "metadata": {},
   "outputs": [
    {
     "name": "stdout",
     "output_type": "stream",
     "text": [
      "odds of blackjack = 0.012213740458015267\n",
      "odds of  two As = 0.0015105740181268882\n"
     ]
    }
   ],
   "source": [
    "blackjack_o = blackjack_p/(1-blackjack_p)\n",
    "print(\"odds of blackjack = %s\" %(blackjack_o)) \n",
    "\n",
    "twoAs_o = twoAs_p/(1-twoAs_p)\n",
    "print(\"odds of  two As = %s\" %(twoAs_o))"
   ]
  }
 ],
 "metadata": {
  "kernelspec": {
   "display_name": "Python 3",
   "language": "python",
   "name": "python3"
  },
  "language_info": {
   "codemirror_mode": {
    "name": "ipython",
    "version": 3
   },
   "file_extension": ".py",
   "mimetype": "text/x-python",
   "name": "python",
   "nbconvert_exporter": "python",
   "pygments_lexer": "ipython3",
   "version": "3.7.0"
  }
 },
 "nbformat": 4,
 "nbformat_minor": 2
}
