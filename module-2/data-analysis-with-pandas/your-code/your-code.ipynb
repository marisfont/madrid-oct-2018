{
 "cells": [
  {
   "cell_type": "markdown",
   "metadata": {},
   "source": [
    "# Guided Project: Data Analysis with Pandas"
   ]
  },
  {
   "cell_type": "markdown",
   "metadata": {},
   "source": [
    "## Imported Libraries"
   ]
  },
  {
   "cell_type": "code",
   "execution_count": 1,
   "metadata": {},
   "outputs": [],
   "source": [
    "import numpy as np\n",
    "import pandas as pd\n",
    "import matplotlib\n",
    "%matplotlib inline\n",
    "import matplotlib.pyplot as plt \n",
    "from scipy import stats"
   ]
  },
  {
   "cell_type": "markdown",
   "metadata": {},
   "source": [
    "## Step 1: Select & Import Data Set\n",
    "- I went to Kaggle Data Sets and selected the [Kickstarter Projects](https://www.kaggle.com/kemical/kickstarter-projects/home) dataset. Kickstartes is one of the world's largest funding platform for creative projects and this dataset provides information of Kickstarter projects up to 2017.\n",
    "- I downloaded the dataset into the your-code folder and imported it using pandas."
   ]
  },
  {
   "cell_type": "code",
   "execution_count": 2,
   "metadata": {},
   "outputs": [
    {
     "data": {
      "text/html": [
       "<div>\n",
       "<style scoped>\n",
       "    .dataframe tbody tr th:only-of-type {\n",
       "        vertical-align: middle;\n",
       "    }\n",
       "\n",
       "    .dataframe tbody tr th {\n",
       "        vertical-align: top;\n",
       "    }\n",
       "\n",
       "    .dataframe thead th {\n",
       "        text-align: right;\n",
       "    }\n",
       "</style>\n",
       "<table border=\"1\" class=\"dataframe\">\n",
       "  <thead>\n",
       "    <tr style=\"text-align: right;\">\n",
       "      <th></th>\n",
       "      <th>ID</th>\n",
       "      <th>name</th>\n",
       "      <th>category</th>\n",
       "      <th>main_category</th>\n",
       "      <th>currency</th>\n",
       "      <th>deadline</th>\n",
       "      <th>goal</th>\n",
       "      <th>launched</th>\n",
       "      <th>pledged</th>\n",
       "      <th>state</th>\n",
       "      <th>backers</th>\n",
       "      <th>country</th>\n",
       "      <th>usd pledged</th>\n",
       "      <th>usd_pledged_real</th>\n",
       "      <th>usd_goal_real</th>\n",
       "    </tr>\n",
       "  </thead>\n",
       "  <tbody>\n",
       "    <tr>\n",
       "      <th>0</th>\n",
       "      <td>1000002330</td>\n",
       "      <td>The Songs of Adelaide &amp; Abullah</td>\n",
       "      <td>Poetry</td>\n",
       "      <td>Publishing</td>\n",
       "      <td>GBP</td>\n",
       "      <td>2015-10-09</td>\n",
       "      <td>1000.0</td>\n",
       "      <td>2015-08-11 12:12:28</td>\n",
       "      <td>0.0</td>\n",
       "      <td>failed</td>\n",
       "      <td>0</td>\n",
       "      <td>GB</td>\n",
       "      <td>0.0</td>\n",
       "      <td>0.0</td>\n",
       "      <td>1533.95</td>\n",
       "    </tr>\n",
       "    <tr>\n",
       "      <th>1</th>\n",
       "      <td>1000003930</td>\n",
       "      <td>Greeting From Earth: ZGAC Arts Capsule For ET</td>\n",
       "      <td>Narrative Film</td>\n",
       "      <td>Film &amp; Video</td>\n",
       "      <td>USD</td>\n",
       "      <td>2017-11-01</td>\n",
       "      <td>30000.0</td>\n",
       "      <td>2017-09-02 04:43:57</td>\n",
       "      <td>2421.0</td>\n",
       "      <td>failed</td>\n",
       "      <td>15</td>\n",
       "      <td>US</td>\n",
       "      <td>100.0</td>\n",
       "      <td>2421.0</td>\n",
       "      <td>30000.00</td>\n",
       "    </tr>\n",
       "    <tr>\n",
       "      <th>2</th>\n",
       "      <td>1000004038</td>\n",
       "      <td>Where is Hank?</td>\n",
       "      <td>Narrative Film</td>\n",
       "      <td>Film &amp; Video</td>\n",
       "      <td>USD</td>\n",
       "      <td>2013-02-26</td>\n",
       "      <td>45000.0</td>\n",
       "      <td>2013-01-12 00:20:50</td>\n",
       "      <td>220.0</td>\n",
       "      <td>failed</td>\n",
       "      <td>3</td>\n",
       "      <td>US</td>\n",
       "      <td>220.0</td>\n",
       "      <td>220.0</td>\n",
       "      <td>45000.00</td>\n",
       "    </tr>\n",
       "    <tr>\n",
       "      <th>3</th>\n",
       "      <td>1000007540</td>\n",
       "      <td>ToshiCapital Rekordz Needs Help to Complete Album</td>\n",
       "      <td>Music</td>\n",
       "      <td>Music</td>\n",
       "      <td>USD</td>\n",
       "      <td>2012-04-16</td>\n",
       "      <td>5000.0</td>\n",
       "      <td>2012-03-17 03:24:11</td>\n",
       "      <td>1.0</td>\n",
       "      <td>failed</td>\n",
       "      <td>1</td>\n",
       "      <td>US</td>\n",
       "      <td>1.0</td>\n",
       "      <td>1.0</td>\n",
       "      <td>5000.00</td>\n",
       "    </tr>\n",
       "    <tr>\n",
       "      <th>4</th>\n",
       "      <td>1000011046</td>\n",
       "      <td>Community Film Project: The Art of Neighborhoo...</td>\n",
       "      <td>Film &amp; Video</td>\n",
       "      <td>Film &amp; Video</td>\n",
       "      <td>USD</td>\n",
       "      <td>2015-08-29</td>\n",
       "      <td>19500.0</td>\n",
       "      <td>2015-07-04 08:35:03</td>\n",
       "      <td>1283.0</td>\n",
       "      <td>canceled</td>\n",
       "      <td>14</td>\n",
       "      <td>US</td>\n",
       "      <td>1283.0</td>\n",
       "      <td>1283.0</td>\n",
       "      <td>19500.00</td>\n",
       "    </tr>\n",
       "  </tbody>\n",
       "</table>\n",
       "</div>"
      ],
      "text/plain": [
       "           ID                                               name  \\\n",
       "0  1000002330                    The Songs of Adelaide & Abullah   \n",
       "1  1000003930      Greeting From Earth: ZGAC Arts Capsule For ET   \n",
       "2  1000004038                                     Where is Hank?   \n",
       "3  1000007540  ToshiCapital Rekordz Needs Help to Complete Album   \n",
       "4  1000011046  Community Film Project: The Art of Neighborhoo...   \n",
       "\n",
       "         category main_category currency    deadline     goal  \\\n",
       "0          Poetry    Publishing      GBP  2015-10-09   1000.0   \n",
       "1  Narrative Film  Film & Video      USD  2017-11-01  30000.0   \n",
       "2  Narrative Film  Film & Video      USD  2013-02-26  45000.0   \n",
       "3           Music         Music      USD  2012-04-16   5000.0   \n",
       "4    Film & Video  Film & Video      USD  2015-08-29  19500.0   \n",
       "\n",
       "              launched  pledged     state  backers country  usd pledged  \\\n",
       "0  2015-08-11 12:12:28      0.0    failed        0      GB          0.0   \n",
       "1  2017-09-02 04:43:57   2421.0    failed       15      US        100.0   \n",
       "2  2013-01-12 00:20:50    220.0    failed        3      US        220.0   \n",
       "3  2012-03-17 03:24:11      1.0    failed        1      US          1.0   \n",
       "4  2015-07-04 08:35:03   1283.0  canceled       14      US       1283.0   \n",
       "\n",
       "   usd_pledged_real  usd_goal_real  \n",
       "0               0.0        1533.95  \n",
       "1            2421.0       30000.00  \n",
       "2             220.0       45000.00  \n",
       "3               1.0        5000.00  \n",
       "4            1283.0       19500.00  "
      ]
     },
     "metadata": {},
     "output_type": "display_data"
    }
   ],
   "source": [
    "kickstarter = pd.read_csv('data-folder/ks-projects-201801.csv')\n",
    "display(kickstarter.head()) "
   ]
  },
  {
   "cell_type": "markdown",
   "metadata": {},
   "source": [
    "## Step 2:  Data Cleaning\n",
    "- I started to explore the dataset using the info command to get an idea of the data types and the nulls"
   ]
  },
  {
   "cell_type": "code",
   "execution_count": 3,
   "metadata": {},
   "outputs": [
    {
     "name": "stdout",
     "output_type": "stream",
     "text": [
      "<class 'pandas.core.frame.DataFrame'>\n",
      "RangeIndex: 378661 entries, 0 to 378660\n",
      "Data columns (total 15 columns):\n",
      "ID                  378661 non-null int64\n",
      "name                378657 non-null object\n",
      "category            378661 non-null object\n",
      "main_category       378661 non-null object\n",
      "currency            378661 non-null object\n",
      "deadline            378661 non-null object\n",
      "goal                378661 non-null float64\n",
      "launched            378661 non-null object\n",
      "pledged             378661 non-null float64\n",
      "state               378661 non-null object\n",
      "backers             378661 non-null int64\n",
      "country             378661 non-null object\n",
      "usd pledged         374864 non-null float64\n",
      "usd_pledged_real    378661 non-null float64\n",
      "usd_goal_real       378661 non-null float64\n",
      "dtypes: float64(5), int64(2), object(8)\n",
      "memory usage: 43.3+ MB\n"
     ]
    }
   ],
   "source": [
    "kickstarter.info()"
   ]
  },
  {
   "cell_type": "markdown",
   "metadata": {},
   "source": [
    "- I changed the data types of the following columns \n",
    "    - ID to object\n",
    "    - category to category\n",
    "    - main_category to category\n",
    "    - state to category\n",
    "    - deadline to datetime\n",
    "    - launched to datetime\n",
    "- I used the dtypes command to verify the data types where changed"
   ]
  },
  {
   "cell_type": "code",
   "execution_count": 4,
   "metadata": {},
   "outputs": [],
   "source": [
    "kickstarter['ID'] = kickstarter['ID'].astype('object')\n",
    "kickstarter['category'] = kickstarter['category'].astype('category')\n",
    "kickstarter['main_category'] = kickstarter['main_category'].astype('category')\n",
    "kickstarter['state'] = kickstarter['state'].astype('category')\n",
    "kickstarter['deadline'] = pd.to_datetime(kickstarter['deadline'])\n",
    "kickstarter['launched'] = pd.to_datetime(kickstarter['launched'])"
   ]
  },
  {
   "cell_type": "code",
   "execution_count": 5,
   "metadata": {},
   "outputs": [
    {
     "data": {
      "text/plain": [
       "ID                          object\n",
       "name                        object\n",
       "category                  category\n",
       "main_category             category\n",
       "currency                    object\n",
       "deadline            datetime64[ns]\n",
       "goal                       float64\n",
       "launched            datetime64[ns]\n",
       "pledged                    float64\n",
       "state                     category\n",
       "backers                      int64\n",
       "country                     object\n",
       "usd pledged                float64\n",
       "usd_pledged_real           float64\n",
       "usd_goal_real              float64\n",
       "dtype: object"
      ]
     },
     "execution_count": 5,
     "metadata": {},
     "output_type": "execute_result"
    }
   ],
   "source": [
    "kickstarter.dtypes"
   ]
  },
  {
   "cell_type": "markdown",
   "metadata": {},
   "source": [
    "- I proceded to dropp the usd pledged column for two main reasons\n",
    "   - The first was that it was missing values since but inreality they represented an insignificant portion of the data set\n",
    "   - The second was that usd_pledged was the conversion to US dollars of the pledged column done by kickstarter, while the usd_pleadged_real column had the conversion by Fixer.io API which is in is the correct to use for analysis since it matched the usd_goal_real rate."
   ]
  },
  {
   "cell_type": "code",
   "execution_count": 27,
   "metadata": {},
   "outputs": [],
   "source": [
    "null_cols = kickstarter.isnull().sum()\n",
    "drop_cols = list(null_cols[null_cols > 100].index)\n",
    "kickstarter = kickstarter.drop(drop_cols, axis=1)"
   ]
  },
  {
   "cell_type": "code",
   "execution_count": 85,
   "metadata": {},
   "outputs": [
    {
     "data": {
      "text/plain": [
       "Index(['ID', 'name', 'category', 'main_category', 'currency', 'deadline',\n",
       "       'goal', 'launched', 'pledged', 'state', 'backers', 'country',\n",
       "       'usd_pledged_real', 'usd_goal_real'],\n",
       "      dtype='object')"
      ]
     },
     "execution_count": 85,
     "metadata": {},
     "output_type": "execute_result"
    }
   ],
   "source": [
    "kickstarter.columns"
   ]
  },
  {
   "cell_type": "markdown",
   "metadata": {},
   "source": [
    "## Step 3: Preliminary Analysis"
   ]
  },
  {
   "cell_type": "markdown",
   "metadata": {},
   "source": [
    "- I started the preliminary analysis using the describe command\n",
    "- I as well created a boxplot and a histogram\n",
    "    - I didn't find any of these anylists tools very usefull due to the type of data"
   ]
  },
  {
   "cell_type": "code",
   "execution_count": 28,
   "metadata": {},
   "outputs": [
    {
     "data": {
      "text/html": [
       "<div>\n",
       "<style scoped>\n",
       "    .dataframe tbody tr th:only-of-type {\n",
       "        vertical-align: middle;\n",
       "    }\n",
       "\n",
       "    .dataframe tbody tr th {\n",
       "        vertical-align: top;\n",
       "    }\n",
       "\n",
       "    .dataframe thead th {\n",
       "        text-align: right;\n",
       "    }\n",
       "</style>\n",
       "<table border=\"1\" class=\"dataframe\">\n",
       "  <thead>\n",
       "    <tr style=\"text-align: right;\">\n",
       "      <th></th>\n",
       "      <th>goal</th>\n",
       "      <th>pledged</th>\n",
       "      <th>backers</th>\n",
       "      <th>usd_pledged_real</th>\n",
       "      <th>usd_goal_real</th>\n",
       "    </tr>\n",
       "  </thead>\n",
       "  <tbody>\n",
       "    <tr>\n",
       "      <th>count</th>\n",
       "      <td>3.786610e+05</td>\n",
       "      <td>3.786610e+05</td>\n",
       "      <td>378661.000000</td>\n",
       "      <td>3.786610e+05</td>\n",
       "      <td>3.786610e+05</td>\n",
       "    </tr>\n",
       "    <tr>\n",
       "      <th>mean</th>\n",
       "      <td>4.908079e+04</td>\n",
       "      <td>9.682979e+03</td>\n",
       "      <td>105.617476</td>\n",
       "      <td>9.058924e+03</td>\n",
       "      <td>4.545440e+04</td>\n",
       "    </tr>\n",
       "    <tr>\n",
       "      <th>std</th>\n",
       "      <td>1.183391e+06</td>\n",
       "      <td>9.563601e+04</td>\n",
       "      <td>907.185035</td>\n",
       "      <td>9.097334e+04</td>\n",
       "      <td>1.152950e+06</td>\n",
       "    </tr>\n",
       "    <tr>\n",
       "      <th>min</th>\n",
       "      <td>1.000000e-02</td>\n",
       "      <td>0.000000e+00</td>\n",
       "      <td>0.000000</td>\n",
       "      <td>0.000000e+00</td>\n",
       "      <td>1.000000e-02</td>\n",
       "    </tr>\n",
       "    <tr>\n",
       "      <th>25%</th>\n",
       "      <td>2.000000e+03</td>\n",
       "      <td>3.000000e+01</td>\n",
       "      <td>2.000000</td>\n",
       "      <td>3.100000e+01</td>\n",
       "      <td>2.000000e+03</td>\n",
       "    </tr>\n",
       "    <tr>\n",
       "      <th>50%</th>\n",
       "      <td>5.200000e+03</td>\n",
       "      <td>6.200000e+02</td>\n",
       "      <td>12.000000</td>\n",
       "      <td>6.243300e+02</td>\n",
       "      <td>5.500000e+03</td>\n",
       "    </tr>\n",
       "    <tr>\n",
       "      <th>75%</th>\n",
       "      <td>1.600000e+04</td>\n",
       "      <td>4.076000e+03</td>\n",
       "      <td>56.000000</td>\n",
       "      <td>4.050000e+03</td>\n",
       "      <td>1.550000e+04</td>\n",
       "    </tr>\n",
       "    <tr>\n",
       "      <th>max</th>\n",
       "      <td>1.000000e+08</td>\n",
       "      <td>2.033899e+07</td>\n",
       "      <td>219382.000000</td>\n",
       "      <td>2.033899e+07</td>\n",
       "      <td>1.663614e+08</td>\n",
       "    </tr>\n",
       "  </tbody>\n",
       "</table>\n",
       "</div>"
      ],
      "text/plain": [
       "               goal       pledged        backers  usd_pledged_real  \\\n",
       "count  3.786610e+05  3.786610e+05  378661.000000      3.786610e+05   \n",
       "mean   4.908079e+04  9.682979e+03     105.617476      9.058924e+03   \n",
       "std    1.183391e+06  9.563601e+04     907.185035      9.097334e+04   \n",
       "min    1.000000e-02  0.000000e+00       0.000000      0.000000e+00   \n",
       "25%    2.000000e+03  3.000000e+01       2.000000      3.100000e+01   \n",
       "50%    5.200000e+03  6.200000e+02      12.000000      6.243300e+02   \n",
       "75%    1.600000e+04  4.076000e+03      56.000000      4.050000e+03   \n",
       "max    1.000000e+08  2.033899e+07  219382.000000      2.033899e+07   \n",
       "\n",
       "       usd_goal_real  \n",
       "count   3.786610e+05  \n",
       "mean    4.545440e+04  \n",
       "std     1.152950e+06  \n",
       "min     1.000000e-02  \n",
       "25%     2.000000e+03  \n",
       "50%     5.500000e+03  \n",
       "75%     1.550000e+04  \n",
       "max     1.663614e+08  "
      ]
     },
     "execution_count": 28,
     "metadata": {},
     "output_type": "execute_result"
    }
   ],
   "source": [
    "kickstarter.describe()"
   ]
  },
  {
   "cell_type": "code",
   "execution_count": 30,
   "metadata": {},
   "outputs": [
    {
     "data": {
      "text/plain": [
       "<matplotlib.axes._subplots.AxesSubplot at 0x118501128>"
      ]
     },
     "execution_count": 30,
     "metadata": {},
     "output_type": "execute_result"
    },
    {
     "data": {
      "image/png": "[encoded data removed]",
      "text/plain": [
       "<Figure size 432x288 with 1 Axes>"
      ]
     },
     "metadata": {
      "needs_background": "light"
     },
     "output_type": "display_data"
    }
   ],
   "source": [
    "kickstarter.boxplot()"
   ]
  },
  {
   "cell_type": "code",
   "execution_count": 31,
   "metadata": {},
   "outputs": [
    {
     "data": {
      "text/plain": [
       "array([[<matplotlib.axes._subplots.AxesSubplot object at 0x1185237b8>,\n",
       "        <matplotlib.axes._subplots.AxesSubplot object at 0x10544b160>],\n",
       "       [<matplotlib.axes._subplots.AxesSubplot object at 0x119279b70>,\n",
       "        <matplotlib.axes._subplots.AxesSubplot object at 0x1196c0128>],\n",
       "       [<matplotlib.axes._subplots.AxesSubplot object at 0x1196e76a0>,\n",
       "        <matplotlib.axes._subplots.AxesSubplot object at 0x119d33c18>]],\n",
       "      dtype=object)"
      ]
     },
     "execution_count": 31,
     "metadata": {},
     "output_type": "execute_result"
    },
    {
     "data": {
      "image/png": "[encoded data removed]",
      "text/plain": [
       "<Figure size 432x288 with 6 Axes>"
      ]
     },
     "metadata": {
      "needs_background": "light"
     },
     "output_type": "display_data"
    }
   ],
   "source": [
    "kickstarter.hist()"
   ]
  },
  {
   "cell_type": "markdown",
   "metadata": {},
   "source": [
    "## Step 4: Correlation Analysis\n",
    "- Because of the nature of the data, from the begining I was interested in finding correlations within the variables. \n",
    "- The first question I wanted to ask  was whether there was a relationship between the pledged amount, the goal amount, and the number of backers.\n",
    "    - I therefore created a correlation matrix to figure out the correlations between these numerical variables.\n",
    "    - From this matrix I discovered that the only strong correlation is between the number of backers and the pledged amount. \n",
    "        - I therefore proceeded to make a scatter plot with backers as the x axis and usd_pledged_read as the y axis to see the correlation more visually. \n",
    "        - From the scatter plot I was able to see that:\n",
    "            - As the number of backers increased, so did the amount pledged\n",
    "            - Most projects were concentrated in the lower regions of the axises, which means that most projects pledged smaller amounts of money and had lower amounts of backers.\n",
    "            - There were are a couple outliers both in regards to amounts pledged and number of backers"
   ]
  },
  {
   "cell_type": "code",
   "execution_count": 34,
   "metadata": {},
   "outputs": [
    {
     "data": {
      "text/html": [
       "<div>\n",
       "<style scoped>\n",
       "    .dataframe tbody tr th:only-of-type {\n",
       "        vertical-align: middle;\n",
       "    }\n",
       "\n",
       "    .dataframe tbody tr th {\n",
       "        vertical-align: top;\n",
       "    }\n",
       "\n",
       "    .dataframe thead th {\n",
       "        text-align: right;\n",
       "    }\n",
       "</style>\n",
       "<table border=\"1\" class=\"dataframe\">\n",
       "  <thead>\n",
       "    <tr style=\"text-align: right;\">\n",
       "      <th></th>\n",
       "      <th>goal</th>\n",
       "      <th>pledged</th>\n",
       "      <th>backers</th>\n",
       "      <th>usd_pledged_real</th>\n",
       "      <th>usd_goal_real</th>\n",
       "    </tr>\n",
       "  </thead>\n",
       "  <tbody>\n",
       "    <tr>\n",
       "      <th>goal</th>\n",
       "      <td>1.000000</td>\n",
       "      <td>0.007358</td>\n",
       "      <td>0.004012</td>\n",
       "      <td>0.005104</td>\n",
       "      <td>0.942692</td>\n",
       "    </tr>\n",
       "    <tr>\n",
       "      <th>pledged</th>\n",
       "      <td>0.007358</td>\n",
       "      <td>1.000000</td>\n",
       "      <td>0.717079</td>\n",
       "      <td>0.952843</td>\n",
       "      <td>0.005024</td>\n",
       "    </tr>\n",
       "    <tr>\n",
       "      <th>backers</th>\n",
       "      <td>0.004012</td>\n",
       "      <td>0.717079</td>\n",
       "      <td>1.000000</td>\n",
       "      <td>0.752539</td>\n",
       "      <td>0.004517</td>\n",
       "    </tr>\n",
       "    <tr>\n",
       "      <th>usd_pledged_real</th>\n",
       "      <td>0.005104</td>\n",
       "      <td>0.952843</td>\n",
       "      <td>0.752539</td>\n",
       "      <td>1.000000</td>\n",
       "      <td>0.005596</td>\n",
       "    </tr>\n",
       "    <tr>\n",
       "      <th>usd_goal_real</th>\n",
       "      <td>0.942692</td>\n",
       "      <td>0.005024</td>\n",
       "      <td>0.004517</td>\n",
       "      <td>0.005596</td>\n",
       "      <td>1.000000</td>\n",
       "    </tr>\n",
       "  </tbody>\n",
       "</table>\n",
       "</div>"
      ],
      "text/plain": [
       "                      goal   pledged   backers  usd_pledged_real  \\\n",
       "goal              1.000000  0.007358  0.004012          0.005104   \n",
       "pledged           0.007358  1.000000  0.717079          0.952843   \n",
       "backers           0.004012  0.717079  1.000000          0.752539   \n",
       "usd_pledged_real  0.005104  0.952843  0.752539          1.000000   \n",
       "usd_goal_real     0.942692  0.005024  0.004517          0.005596   \n",
       "\n",
       "                  usd_goal_real  \n",
       "goal                   0.942692  \n",
       "pledged                0.005024  \n",
       "backers                0.004517  \n",
       "usd_pledged_real       0.005596  \n",
       "usd_goal_real          1.000000  "
      ]
     },
     "execution_count": 34,
     "metadata": {},
     "output_type": "execute_result"
    }
   ],
   "source": [
    "kickstarter.corr()"
   ]
  },
  {
   "cell_type": "code",
   "execution_count": 86,
   "metadata": {},
   "outputs": [
    {
     "data": {
      "text/plain": [
       "<matplotlib.collections.PathCollection at 0x13bf577f0>"
      ]
     },
     "execution_count": 86,
     "metadata": {},
     "output_type": "execute_result"
    },
    {
     "data": {
      "image/png": "[encoded data removed]",
      "text/plain": [
       "<Figure size 432x288 with 1 Axes>"
      ]
     },
     "metadata": {
      "needs_background": "light"
     },
     "output_type": "display_data"
    }
   ],
   "source": [
    "plt.scatter(x=kickstarter['backers'], y=kickstarter['usd_pledged_real'])"
   ]
  },
  {
   "cell_type": "markdown",
   "metadata": {},
   "source": [
    "- I also wanted to undestand how many projects were in each main category\n",
    "   - I therefore used the crosstab funtion with main_category as the index and the sum as the column, which I as well sorted. \n",
    "   - From this function I dicovered Film & Video and Music projects were the most popular project categories "
   ]
  },
  {
   "cell_type": "code",
   "execution_count": 57,
   "metadata": {},
   "outputs": [
    {
     "data": {
      "text/html": [
       "<div>\n",
       "<style scoped>\n",
       "    .dataframe tbody tr th:only-of-type {\n",
       "        vertical-align: middle;\n",
       "    }\n",
       "\n",
       "    .dataframe tbody tr th {\n",
       "        vertical-align: top;\n",
       "    }\n",
       "\n",
       "    .dataframe thead th {\n",
       "        text-align: right;\n",
       "    }\n",
       "</style>\n",
       "<table border=\"1\" class=\"dataframe\">\n",
       "  <thead>\n",
       "    <tr style=\"text-align: right;\">\n",
       "      <th>col_0</th>\n",
       "      <th>sum</th>\n",
       "    </tr>\n",
       "    <tr>\n",
       "      <th>main_category</th>\n",
       "      <th></th>\n",
       "    </tr>\n",
       "  </thead>\n",
       "  <tbody>\n",
       "    <tr>\n",
       "      <th>Film &amp; Video</th>\n",
       "      <td>63585</td>\n",
       "    </tr>\n",
       "    <tr>\n",
       "      <th>Music</th>\n",
       "      <td>51918</td>\n",
       "    </tr>\n",
       "    <tr>\n",
       "      <th>Publishing</th>\n",
       "      <td>39874</td>\n",
       "    </tr>\n",
       "    <tr>\n",
       "      <th>Games</th>\n",
       "      <td>35231</td>\n",
       "    </tr>\n",
       "    <tr>\n",
       "      <th>Technology</th>\n",
       "      <td>32569</td>\n",
       "    </tr>\n",
       "    <tr>\n",
       "      <th>Design</th>\n",
       "      <td>30070</td>\n",
       "    </tr>\n",
       "    <tr>\n",
       "      <th>Art</th>\n",
       "      <td>28153</td>\n",
       "    </tr>\n",
       "    <tr>\n",
       "      <th>Food</th>\n",
       "      <td>24602</td>\n",
       "    </tr>\n",
       "    <tr>\n",
       "      <th>Fashion</th>\n",
       "      <td>22816</td>\n",
       "    </tr>\n",
       "    <tr>\n",
       "      <th>Theater</th>\n",
       "      <td>10913</td>\n",
       "    </tr>\n",
       "    <tr>\n",
       "      <th>Comics</th>\n",
       "      <td>10819</td>\n",
       "    </tr>\n",
       "    <tr>\n",
       "      <th>Photography</th>\n",
       "      <td>10779</td>\n",
       "    </tr>\n",
       "    <tr>\n",
       "      <th>Crafts</th>\n",
       "      <td>8809</td>\n",
       "    </tr>\n",
       "    <tr>\n",
       "      <th>Journalism</th>\n",
       "      <td>4755</td>\n",
       "    </tr>\n",
       "    <tr>\n",
       "      <th>Dance</th>\n",
       "      <td>3768</td>\n",
       "    </tr>\n",
       "  </tbody>\n",
       "</table>\n",
       "</div>"
      ],
      "text/plain": [
       "col_0            sum\n",
       "main_category       \n",
       "Film & Video   63585\n",
       "Music          51918\n",
       "Publishing     39874\n",
       "Games          35231\n",
       "Technology     32569\n",
       "Design         30070\n",
       "Art            28153\n",
       "Food           24602\n",
       "Fashion        22816\n",
       "Theater        10913\n",
       "Comics         10819\n",
       "Photography    10779\n",
       "Crafts          8809\n",
       "Journalism      4755\n",
       "Dance           3768"
      ]
     },
     "execution_count": 57,
     "metadata": {},
     "output_type": "execute_result"
    }
   ],
   "source": [
    "pd.crosstab(index=kickstarter.main_category, columns='sum').sort_values(by = 'sum', ascending=False)"
   ]
  },
  {
   "cell_type": "markdown",
   "metadata": {},
   "source": [
    "- Now that I knew the most popular project categories, and that there were outliers as well, I wanted to understand how funding received was correlated or played a role with project categories \n",
    "    - I therefore created a pivot table to visually see the sum, minimum, mean, maximum and standard deviation of pledged amounts for each main category.\n",
    "    - As I expected, the min amount for all categories was 0, since some projects don't receive any funding\n",
    "    - Projects focused on Design received the highest funding on average, and projects on Crafts received the least\n",
    "    - A project in Design received the highest funding overall"
   ]
  },
  {
   "cell_type": "code",
   "execution_count": 110,
   "metadata": {},
   "outputs": [
    {
     "data": {
      "text/html": [
       "<div>\n",
       "<style scoped>\n",
       "    .dataframe tbody tr th:only-of-type {\n",
       "        vertical-align: middle;\n",
       "    }\n",
       "\n",
       "    .dataframe tbody tr th {\n",
       "        vertical-align: top;\n",
       "    }\n",
       "\n",
       "    .dataframe thead tr th {\n",
       "        text-align: left;\n",
       "    }\n",
       "\n",
       "    .dataframe thead tr:last-of-type th {\n",
       "        text-align: right;\n",
       "    }\n",
       "</style>\n",
       "<table border=\"1\" class=\"dataframe\">\n",
       "  <thead>\n",
       "    <tr>\n",
       "      <th></th>\n",
       "      <th colspan=\"5\" halign=\"left\">usd_pledged_real</th>\n",
       "    </tr>\n",
       "    <tr>\n",
       "      <th></th>\n",
       "      <th>max</th>\n",
       "      <th>mean</th>\n",
       "      <th>min</th>\n",
       "      <th>std</th>\n",
       "      <th>sum</th>\n",
       "    </tr>\n",
       "    <tr>\n",
       "      <th>main_category</th>\n",
       "      <th></th>\n",
       "      <th></th>\n",
       "      <th></th>\n",
       "      <th></th>\n",
       "      <th></th>\n",
       "    </tr>\n",
       "  </thead>\n",
       "  <tbody>\n",
       "    <tr>\n",
       "      <th>Art</th>\n",
       "      <td>1924018.00</td>\n",
       "      <td>3220.986968</td>\n",
       "      <td>0.0</td>\n",
       "      <td>21855.268913</td>\n",
       "      <td>9.068045e+07</td>\n",
       "    </tr>\n",
       "    <tr>\n",
       "      <th>Comics</th>\n",
       "      <td>1254120.08</td>\n",
       "      <td>6610.443828</td>\n",
       "      <td>0.0</td>\n",
       "      <td>24409.291132</td>\n",
       "      <td>7.151839e+07</td>\n",
       "    </tr>\n",
       "    <tr>\n",
       "      <th>Crafts</th>\n",
       "      <td>454717.53</td>\n",
       "      <td>1632.907282</td>\n",
       "      <td>0.0</td>\n",
       "      <td>8087.313906</td>\n",
       "      <td>1.438428e+07</td>\n",
       "    </tr>\n",
       "    <tr>\n",
       "      <th>Dance</th>\n",
       "      <td>146075.97</td>\n",
       "      <td>3452.946356</td>\n",
       "      <td>0.0</td>\n",
       "      <td>5768.896354</td>\n",
       "      <td>1.301070e+07</td>\n",
       "    </tr>\n",
       "    <tr>\n",
       "      <th>Design</th>\n",
       "      <td>20338986.27</td>\n",
       "      <td>24417.034698</td>\n",
       "      <td>0.0</td>\n",
       "      <td>214977.197138</td>\n",
       "      <td>7.342202e+08</td>\n",
       "    </tr>\n",
       "    <tr>\n",
       "      <th>Fashion</th>\n",
       "      <td>1851033.00</td>\n",
       "      <td>5712.450839</td>\n",
       "      <td>0.0</td>\n",
       "      <td>29930.334327</td>\n",
       "      <td>1.303353e+08</td>\n",
       "    </tr>\n",
       "    <tr>\n",
       "      <th>Film &amp; Video</th>\n",
       "      <td>5764229.38</td>\n",
       "      <td>6157.978427</td>\n",
       "      <td>0.0</td>\n",
       "      <td>41398.668874</td>\n",
       "      <td>3.915551e+08</td>\n",
       "    </tr>\n",
       "    <tr>\n",
       "      <th>Food</th>\n",
       "      <td>1927217.00</td>\n",
       "      <td>5113.669716</td>\n",
       "      <td>0.0</td>\n",
       "      <td>31219.686607</td>\n",
       "      <td>1.258065e+08</td>\n",
       "    </tr>\n",
       "    <tr>\n",
       "      <th>Games</th>\n",
       "      <td>12393139.69</td>\n",
       "      <td>21041.903140</td>\n",
       "      <td>0.0</td>\n",
       "      <td>168530.082728</td>\n",
       "      <td>7.413273e+08</td>\n",
       "    </tr>\n",
       "    <tr>\n",
       "      <th>Journalism</th>\n",
       "      <td>215487.75</td>\n",
       "      <td>2615.702568</td>\n",
       "      <td>0.0</td>\n",
       "      <td>10450.694460</td>\n",
       "      <td>1.243767e+07</td>\n",
       "    </tr>\n",
       "    <tr>\n",
       "      <th>Music</th>\n",
       "      <td>1363037.00</td>\n",
       "      <td>3858.367608</td>\n",
       "      <td>0.0</td>\n",
       "      <td>13015.497669</td>\n",
       "      <td>2.003187e+08</td>\n",
       "    </tr>\n",
       "    <tr>\n",
       "      <th>Photography</th>\n",
       "      <td>793266.77</td>\n",
       "      <td>3571.909322</td>\n",
       "      <td>0.0</td>\n",
       "      <td>19273.424863</td>\n",
       "      <td>3.850161e+07</td>\n",
       "    </tr>\n",
       "    <tr>\n",
       "      <th>Publishing</th>\n",
       "      <td>866193.50</td>\n",
       "      <td>3349.951931</td>\n",
       "      <td>0.0</td>\n",
       "      <td>14816.605399</td>\n",
       "      <td>1.335760e+08</td>\n",
       "    </tr>\n",
       "    <tr>\n",
       "      <th>Technology</th>\n",
       "      <td>6225354.98</td>\n",
       "      <td>21151.171165</td>\n",
       "      <td>0.0</td>\n",
       "      <td>126726.153959</td>\n",
       "      <td>6.888725e+08</td>\n",
       "    </tr>\n",
       "    <tr>\n",
       "      <th>Theater</th>\n",
       "      <td>358548.01</td>\n",
       "      <td>4005.918099</td>\n",
       "      <td>0.0</td>\n",
       "      <td>10850.093645</td>\n",
       "      <td>4.371658e+07</td>\n",
       "    </tr>\n",
       "  </tbody>\n",
       "</table>\n",
       "</div>"
      ],
      "text/plain": [
       "              usd_pledged_real                                                \n",
       "                           max          mean  min            std           sum\n",
       "main_category                                                                 \n",
       "Art                 1924018.00   3220.986968  0.0   21855.268913  9.068045e+07\n",
       "Comics              1254120.08   6610.443828  0.0   24409.291132  7.151839e+07\n",
       "Crafts               454717.53   1632.907282  0.0    8087.313906  1.438428e+07\n",
       "Dance                146075.97   3452.946356  0.0    5768.896354  1.301070e+07\n",
       "Design             20338986.27  24417.034698  0.0  214977.197138  7.342202e+08\n",
       "Fashion             1851033.00   5712.450839  0.0   29930.334327  1.303353e+08\n",
       "Film & Video        5764229.38   6157.978427  0.0   41398.668874  3.915551e+08\n",
       "Food                1927217.00   5113.669716  0.0   31219.686607  1.258065e+08\n",
       "Games              12393139.69  21041.903140  0.0  168530.082728  7.413273e+08\n",
       "Journalism           215487.75   2615.702568  0.0   10450.694460  1.243767e+07\n",
       "Music               1363037.00   3858.367608  0.0   13015.497669  2.003187e+08\n",
       "Photography          793266.77   3571.909322  0.0   19273.424863  3.850161e+07\n",
       "Publishing           866193.50   3349.951931  0.0   14816.605399  1.335760e+08\n",
       "Technology          6225354.98  21151.171165  0.0  126726.153959  6.888725e+08\n",
       "Theater              358548.01   4005.918099  0.0   10850.093645  4.371658e+07"
      ]
     },
     "execution_count": 110,
     "metadata": {},
     "output_type": "execute_result"
    }
   ],
   "source": [
    "kickstarter.pivot_table(index=['main_category'],values=['usd_pledged_real'], aggfunc={'usd_pledged_real': [np.sum, np.mean, max, min, np.std]})"
   ]
  }
 ],
 "metadata": {
  "kernelspec": {
   "display_name": "Python 3",
   "language": "python",
   "name": "python3"
  },
  "language_info": {
   "codemirror_mode": {
    "name": "ipython",
    "version": 3
   },
   "file_extension": ".py",
   "mimetype": "text/x-python",
   "name": "python",
   "nbconvert_exporter": "python",
   "pygments_lexer": "ipython3",
   "version": "3.7.0"
  }
 },
 "nbformat": 4,
 "nbformat_minor": 2
}
